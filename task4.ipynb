{
  "nbformat": 4,
  "nbformat_minor": 0,
  "metadata": {
    "accelerator": "GPU",
    "colab": {
      "name": "task4.ipynb",
      "provenance": [],
      "collapsed_sections": [],
      "include_colab_link": true
    },
    "kernelspec": {
      "display_name": "Python 3",
      "language": "python",
      "name": "python3"
    },
    "widgets": {
      "application/vnd.jupyter.widget-state+json": {
        "8d446198a8b5437f95b1833e5d73b0c3": {
          "model_module": "@jupyter-widgets/controls",
          "model_name": "HBoxModel",
          "state": {
            "_view_name": "HBoxView",
            "_dom_classes": [],
            "_model_name": "HBoxModel",
            "_view_module": "@jupyter-widgets/controls",
            "_model_module_version": "1.5.0",
            "_view_count": null,
            "_view_module_version": "1.5.0",
            "box_style": "",
            "layout": "IPY_MODEL_5d4df83a64ae4eda94a4c8b5bf5cccd5",
            "_model_module": "@jupyter-widgets/controls",
            "children": [
              "IPY_MODEL_38661bf0224e4101b51baaddc8346ec9",
              "IPY_MODEL_d4fc95f2e4234895b7e9e68fe3835f73"
            ]
          }
        },
        "5d4df83a64ae4eda94a4c8b5bf5cccd5": {
          "model_module": "@jupyter-widgets/base",
          "model_name": "LayoutModel",
          "state": {
            "_view_name": "LayoutView",
            "grid_template_rows": null,
            "right": null,
            "justify_content": null,
            "_view_module": "@jupyter-widgets/base",
            "overflow": null,
            "_model_module_version": "1.2.0",
            "_view_count": null,
            "flex_flow": null,
            "width": null,
            "min_width": null,
            "border": null,
            "align_items": null,
            "bottom": null,
            "_model_module": "@jupyter-widgets/base",
            "top": null,
            "grid_column": null,
            "overflow_y": null,
            "overflow_x": null,
            "grid_auto_flow": null,
            "grid_area": null,
            "grid_template_columns": null,
            "flex": null,
            "_model_name": "LayoutModel",
            "justify_items": null,
            "grid_row": null,
            "max_height": null,
            "align_content": null,
            "visibility": null,
            "align_self": null,
            "height": null,
            "min_height": null,
            "padding": null,
            "grid_auto_rows": null,
            "grid_gap": null,
            "max_width": null,
            "order": null,
            "_view_module_version": "1.2.0",
            "grid_template_areas": null,
            "object_position": null,
            "object_fit": null,
            "grid_auto_columns": null,
            "margin": null,
            "display": null,
            "left": null
          }
        },
        "38661bf0224e4101b51baaddc8346ec9": {
          "model_module": "@jupyter-widgets/controls",
          "model_name": "IntProgressModel",
          "state": {
            "_view_name": "ProgressView",
            "style": "IPY_MODEL_b31d824c93094ba29fe17cbadf1e0791",
            "_dom_classes": [],
            "description": "",
            "_model_name": "IntProgressModel",
            "bar_style": "success",
            "max": 50297,
            "_view_module": "@jupyter-widgets/controls",
            "_model_module_version": "1.5.0",
            "value": 50297,
            "_view_count": null,
            "_view_module_version": "1.5.0",
            "orientation": "horizontal",
            "min": 0,
            "description_tooltip": null,
            "_model_module": "@jupyter-widgets/controls",
            "layout": "IPY_MODEL_80cc3cf70de44f268ba671140dda1f0f"
          }
        },
        "d4fc95f2e4234895b7e9e68fe3835f73": {
          "model_module": "@jupyter-widgets/controls",
          "model_name": "HTMLModel",
          "state": {
            "_view_name": "HTMLView",
            "style": "IPY_MODEL_11c6a5bea74e4f65b48da313f66bce35",
            "_dom_classes": [],
            "description": "",
            "_model_name": "HTMLModel",
            "placeholder": "​",
            "_view_module": "@jupyter-widgets/controls",
            "_model_module_version": "1.5.0",
            "value": "100% 50297/50297 [03:33&lt;00:00, 235.95it/s]",
            "_view_count": null,
            "_view_module_version": "1.5.0",
            "description_tooltip": null,
            "_model_module": "@jupyter-widgets/controls",
            "layout": "IPY_MODEL_b3dc3940e2f34581a42700adb82051b6"
          }
        },
        "b31d824c93094ba29fe17cbadf1e0791": {
          "model_module": "@jupyter-widgets/controls",
          "model_name": "ProgressStyleModel",
          "state": {
            "_view_name": "StyleView",
            "_model_name": "ProgressStyleModel",
            "description_width": "",
            "_view_module": "@jupyter-widgets/base",
            "_model_module_version": "1.5.0",
            "_view_count": null,
            "_view_module_version": "1.2.0",
            "bar_color": null,
            "_model_module": "@jupyter-widgets/controls"
          }
        },
        "80cc3cf70de44f268ba671140dda1f0f": {
          "model_module": "@jupyter-widgets/base",
          "model_name": "LayoutModel",
          "state": {
            "_view_name": "LayoutView",
            "grid_template_rows": null,
            "right": null,
            "justify_content": null,
            "_view_module": "@jupyter-widgets/base",
            "overflow": null,
            "_model_module_version": "1.2.0",
            "_view_count": null,
            "flex_flow": null,
            "width": null,
            "min_width": null,
            "border": null,
            "align_items": null,
            "bottom": null,
            "_model_module": "@jupyter-widgets/base",
            "top": null,
            "grid_column": null,
            "overflow_y": null,
            "overflow_x": null,
            "grid_auto_flow": null,
            "grid_area": null,
            "grid_template_columns": null,
            "flex": null,
            "_model_name": "LayoutModel",
            "justify_items": null,
            "grid_row": null,
            "max_height": null,
            "align_content": null,
            "visibility": null,
            "align_self": null,
            "height": null,
            "min_height": null,
            "padding": null,
            "grid_auto_rows": null,
            "grid_gap": null,
            "max_width": null,
            "order": null,
            "_view_module_version": "1.2.0",
            "grid_template_areas": null,
            "object_position": null,
            "object_fit": null,
            "grid_auto_columns": null,
            "margin": null,
            "display": null,
            "left": null
          }
        },
        "11c6a5bea74e4f65b48da313f66bce35": {
          "model_module": "@jupyter-widgets/controls",
          "model_name": "DescriptionStyleModel",
          "state": {
            "_view_name": "StyleView",
            "_model_name": "DescriptionStyleModel",
            "description_width": "",
            "_view_module": "@jupyter-widgets/base",
            "_model_module_version": "1.5.0",
            "_view_count": null,
            "_view_module_version": "1.2.0",
            "_model_module": "@jupyter-widgets/controls"
          }
        },
        "b3dc3940e2f34581a42700adb82051b6": {
          "model_module": "@jupyter-widgets/base",
          "model_name": "LayoutModel",
          "state": {
            "_view_name": "LayoutView",
            "grid_template_rows": null,
            "right": null,
            "justify_content": null,
            "_view_module": "@jupyter-widgets/base",
            "overflow": null,
            "_model_module_version": "1.2.0",
            "_view_count": null,
            "flex_flow": null,
            "width": null,
            "min_width": null,
            "border": null,
            "align_items": null,
            "bottom": null,
            "_model_module": "@jupyter-widgets/base",
            "top": null,
            "grid_column": null,
            "overflow_y": null,
            "overflow_x": null,
            "grid_auto_flow": null,
            "grid_area": null,
            "grid_template_columns": null,
            "flex": null,
            "_model_name": "LayoutModel",
            "justify_items": null,
            "grid_row": null,
            "max_height": null,
            "align_content": null,
            "visibility": null,
            "align_self": null,
            "height": null,
            "min_height": null,
            "padding": null,
            "grid_auto_rows": null,
            "grid_gap": null,
            "max_width": null,
            "order": null,
            "_view_module_version": "1.2.0",
            "grid_template_areas": null,
            "object_position": null,
            "object_fit": null,
            "grid_auto_columns": null,
            "margin": null,
            "display": null,
            "left": null
          }
        },
        "694ad59783104b9994b3beb9e0638577": {
          "model_module": "@jupyter-widgets/controls",
          "model_name": "HBoxModel",
          "state": {
            "_view_name": "HBoxView",
            "_dom_classes": [],
            "_model_name": "HBoxModel",
            "_view_module": "@jupyter-widgets/controls",
            "_model_module_version": "1.5.0",
            "_view_count": null,
            "_view_module_version": "1.5.0",
            "box_style": "",
            "layout": "IPY_MODEL_ce04a8c6b0c4408280280c14ae9e74e1",
            "_model_module": "@jupyter-widgets/controls",
            "children": [
              "IPY_MODEL_ad6820951a354285973163f17888feb6",
              "IPY_MODEL_38df5fd871b1456ea384c74255516f42"
            ]
          }
        },
        "ce04a8c6b0c4408280280c14ae9e74e1": {
          "model_module": "@jupyter-widgets/base",
          "model_name": "LayoutModel",
          "state": {
            "_view_name": "LayoutView",
            "grid_template_rows": null,
            "right": null,
            "justify_content": null,
            "_view_module": "@jupyter-widgets/base",
            "overflow": null,
            "_model_module_version": "1.2.0",
            "_view_count": null,
            "flex_flow": null,
            "width": null,
            "min_width": null,
            "border": null,
            "align_items": null,
            "bottom": null,
            "_model_module": "@jupyter-widgets/base",
            "top": null,
            "grid_column": null,
            "overflow_y": null,
            "overflow_x": null,
            "grid_auto_flow": null,
            "grid_area": null,
            "grid_template_columns": null,
            "flex": null,
            "_model_name": "LayoutModel",
            "justify_items": null,
            "grid_row": null,
            "max_height": null,
            "align_content": null,
            "visibility": null,
            "align_self": null,
            "height": null,
            "min_height": null,
            "padding": null,
            "grid_auto_rows": null,
            "grid_gap": null,
            "max_width": null,
            "order": null,
            "_view_module_version": "1.2.0",
            "grid_template_areas": null,
            "object_position": null,
            "object_fit": null,
            "grid_auto_columns": null,
            "margin": null,
            "display": null,
            "left": null
          }
        },
        "ad6820951a354285973163f17888feb6": {
          "model_module": "@jupyter-widgets/controls",
          "model_name": "IntProgressModel",
          "state": {
            "_view_name": "ProgressView",
            "style": "IPY_MODEL_077247bd0dd542ee8103c96eaf2dfb3d",
            "_dom_classes": [],
            "description": "",
            "_model_name": "IntProgressModel",
            "bar_style": "success",
            "max": 50297,
            "_view_module": "@jupyter-widgets/controls",
            "_model_module_version": "1.5.0",
            "value": 50297,
            "_view_count": null,
            "_view_module_version": "1.5.0",
            "orientation": "horizontal",
            "min": 0,
            "description_tooltip": null,
            "_model_module": "@jupyter-widgets/controls",
            "layout": "IPY_MODEL_8c5305126e73411d9dc9d3d945a53bf8"
          }
        },
        "38df5fd871b1456ea384c74255516f42": {
          "model_module": "@jupyter-widgets/controls",
          "model_name": "HTMLModel",
          "state": {
            "_view_name": "HTMLView",
            "style": "IPY_MODEL_2d514940ea36444fbbd068473d81fd6b",
            "_dom_classes": [],
            "description": "",
            "_model_name": "HTMLModel",
            "placeholder": "​",
            "_view_module": "@jupyter-widgets/controls",
            "_model_module_version": "1.5.0",
            "value": "100% 50297/50297 [00:01&lt;00:00, 48282.31it/s]",
            "_view_count": null,
            "_view_module_version": "1.5.0",
            "description_tooltip": null,
            "_model_module": "@jupyter-widgets/controls",
            "layout": "IPY_MODEL_0b676bb797a4484caf3ce59145b31115"
          }
        },
        "077247bd0dd542ee8103c96eaf2dfb3d": {
          "model_module": "@jupyter-widgets/controls",
          "model_name": "ProgressStyleModel",
          "state": {
            "_view_name": "StyleView",
            "_model_name": "ProgressStyleModel",
            "description_width": "",
            "_view_module": "@jupyter-widgets/base",
            "_model_module_version": "1.5.0",
            "_view_count": null,
            "_view_module_version": "1.2.0",
            "bar_color": null,
            "_model_module": "@jupyter-widgets/controls"
          }
        },
        "8c5305126e73411d9dc9d3d945a53bf8": {
          "model_module": "@jupyter-widgets/base",
          "model_name": "LayoutModel",
          "state": {
            "_view_name": "LayoutView",
            "grid_template_rows": null,
            "right": null,
            "justify_content": null,
            "_view_module": "@jupyter-widgets/base",
            "overflow": null,
            "_model_module_version": "1.2.0",
            "_view_count": null,
            "flex_flow": null,
            "width": null,
            "min_width": null,
            "border": null,
            "align_items": null,
            "bottom": null,
            "_model_module": "@jupyter-widgets/base",
            "top": null,
            "grid_column": null,
            "overflow_y": null,
            "overflow_x": null,
            "grid_auto_flow": null,
            "grid_area": null,
            "grid_template_columns": null,
            "flex": null,
            "_model_name": "LayoutModel",
            "justify_items": null,
            "grid_row": null,
            "max_height": null,
            "align_content": null,
            "visibility": null,
            "align_self": null,
            "height": null,
            "min_height": null,
            "padding": null,
            "grid_auto_rows": null,
            "grid_gap": null,
            "max_width": null,
            "order": null,
            "_view_module_version": "1.2.0",
            "grid_template_areas": null,
            "object_position": null,
            "object_fit": null,
            "grid_auto_columns": null,
            "margin": null,
            "display": null,
            "left": null
          }
        },
        "2d514940ea36444fbbd068473d81fd6b": {
          "model_module": "@jupyter-widgets/controls",
          "model_name": "DescriptionStyleModel",
          "state": {
            "_view_name": "StyleView",
            "_model_name": "DescriptionStyleModel",
            "description_width": "",
            "_view_module": "@jupyter-widgets/base",
            "_model_module_version": "1.5.0",
            "_view_count": null,
            "_view_module_version": "1.2.0",
            "_model_module": "@jupyter-widgets/controls"
          }
        },
        "0b676bb797a4484caf3ce59145b31115": {
          "model_module": "@jupyter-widgets/base",
          "model_name": "LayoutModel",
          "state": {
            "_view_name": "LayoutView",
            "grid_template_rows": null,
            "right": null,
            "justify_content": null,
            "_view_module": "@jupyter-widgets/base",
            "overflow": null,
            "_model_module_version": "1.2.0",
            "_view_count": null,
            "flex_flow": null,
            "width": null,
            "min_width": null,
            "border": null,
            "align_items": null,
            "bottom": null,
            "_model_module": "@jupyter-widgets/base",
            "top": null,
            "grid_column": null,
            "overflow_y": null,
            "overflow_x": null,
            "grid_auto_flow": null,
            "grid_area": null,
            "grid_template_columns": null,
            "flex": null,
            "_model_name": "LayoutModel",
            "justify_items": null,
            "grid_row": null,
            "max_height": null,
            "align_content": null,
            "visibility": null,
            "align_self": null,
            "height": null,
            "min_height": null,
            "padding": null,
            "grid_auto_rows": null,
            "grid_gap": null,
            "max_width": null,
            "order": null,
            "_view_module_version": "1.2.0",
            "grid_template_areas": null,
            "object_position": null,
            "object_fit": null,
            "grid_auto_columns": null,
            "margin": null,
            "display": null,
            "left": null
          }
        },
        "acf131553d604e1fa5cd6a95a2a5bf36": {
          "model_module": "@jupyter-widgets/controls",
          "model_name": "HBoxModel",
          "state": {
            "_view_name": "HBoxView",
            "_dom_classes": [],
            "_model_name": "HBoxModel",
            "_view_module": "@jupyter-widgets/controls",
            "_model_module_version": "1.5.0",
            "_view_count": null,
            "_view_module_version": "1.5.0",
            "box_style": "",
            "layout": "IPY_MODEL_51676302787e43f79b3d84ab92a81682",
            "_model_module": "@jupyter-widgets/controls",
            "children": [
              "IPY_MODEL_da33dc905fa24e2c9bd3326795cce4a0",
              "IPY_MODEL_95807d4feaa04a2dbac10d047047439c"
            ]
          }
        },
        "51676302787e43f79b3d84ab92a81682": {
          "model_module": "@jupyter-widgets/base",
          "model_name": "LayoutModel",
          "state": {
            "_view_name": "LayoutView",
            "grid_template_rows": null,
            "right": null,
            "justify_content": null,
            "_view_module": "@jupyter-widgets/base",
            "overflow": null,
            "_model_module_version": "1.2.0",
            "_view_count": null,
            "flex_flow": null,
            "width": null,
            "min_width": null,
            "border": null,
            "align_items": null,
            "bottom": null,
            "_model_module": "@jupyter-widgets/base",
            "top": null,
            "grid_column": null,
            "overflow_y": null,
            "overflow_x": null,
            "grid_auto_flow": null,
            "grid_area": null,
            "grid_template_columns": null,
            "flex": null,
            "_model_name": "LayoutModel",
            "justify_items": null,
            "grid_row": null,
            "max_height": null,
            "align_content": null,
            "visibility": null,
            "align_self": null,
            "height": null,
            "min_height": null,
            "padding": null,
            "grid_auto_rows": null,
            "grid_gap": null,
            "max_width": null,
            "order": null,
            "_view_module_version": "1.2.0",
            "grid_template_areas": null,
            "object_position": null,
            "object_fit": null,
            "grid_auto_columns": null,
            "margin": null,
            "display": null,
            "left": null
          }
        },
        "da33dc905fa24e2c9bd3326795cce4a0": {
          "model_module": "@jupyter-widgets/controls",
          "model_name": "IntProgressModel",
          "state": {
            "_view_name": "ProgressView",
            "style": "IPY_MODEL_4639de9516074a8b94e80ed85cf7bb60",
            "_dom_classes": [],
            "description": "",
            "_model_name": "IntProgressModel",
            "bar_style": "success",
            "max": 1,
            "_view_module": "@jupyter-widgets/controls",
            "_model_module_version": "1.5.0",
            "value": 1,
            "_view_count": null,
            "_view_module_version": "1.5.0",
            "orientation": "horizontal",
            "min": 0,
            "description_tooltip": null,
            "_model_module": "@jupyter-widgets/controls",
            "layout": "IPY_MODEL_8eaafe28b01e4efa9cb0bdd854858f4f"
          }
        },
        "95807d4feaa04a2dbac10d047047439c": {
          "model_module": "@jupyter-widgets/controls",
          "model_name": "HTMLModel",
          "state": {
            "_view_name": "HTMLView",
            "style": "IPY_MODEL_a7cf3822cbbc431c91fce9b9cb247b53",
            "_dom_classes": [],
            "description": "",
            "_model_name": "HTMLModel",
            "placeholder": "​",
            "_view_module": "@jupyter-widgets/controls",
            "_model_module_version": "1.5.0",
            "value": "50297it [00:01, 27276.26it/s]",
            "_view_count": null,
            "_view_module_version": "1.5.0",
            "description_tooltip": null,
            "_model_module": "@jupyter-widgets/controls",
            "layout": "IPY_MODEL_8410c880a8c34099a1f51a0075d26790"
          }
        },
        "4639de9516074a8b94e80ed85cf7bb60": {
          "model_module": "@jupyter-widgets/controls",
          "model_name": "ProgressStyleModel",
          "state": {
            "_view_name": "StyleView",
            "_model_name": "ProgressStyleModel",
            "description_width": "",
            "_view_module": "@jupyter-widgets/base",
            "_model_module_version": "1.5.0",
            "_view_count": null,
            "_view_module_version": "1.2.0",
            "bar_color": null,
            "_model_module": "@jupyter-widgets/controls"
          }
        },
        "8eaafe28b01e4efa9cb0bdd854858f4f": {
          "model_module": "@jupyter-widgets/base",
          "model_name": "LayoutModel",
          "state": {
            "_view_name": "LayoutView",
            "grid_template_rows": null,
            "right": null,
            "justify_content": null,
            "_view_module": "@jupyter-widgets/base",
            "overflow": null,
            "_model_module_version": "1.2.0",
            "_view_count": null,
            "flex_flow": null,
            "width": null,
            "min_width": null,
            "border": null,
            "align_items": null,
            "bottom": null,
            "_model_module": "@jupyter-widgets/base",
            "top": null,
            "grid_column": null,
            "overflow_y": null,
            "overflow_x": null,
            "grid_auto_flow": null,
            "grid_area": null,
            "grid_template_columns": null,
            "flex": null,
            "_model_name": "LayoutModel",
            "justify_items": null,
            "grid_row": null,
            "max_height": null,
            "align_content": null,
            "visibility": null,
            "align_self": null,
            "height": null,
            "min_height": null,
            "padding": null,
            "grid_auto_rows": null,
            "grid_gap": null,
            "max_width": null,
            "order": null,
            "_view_module_version": "1.2.0",
            "grid_template_areas": null,
            "object_position": null,
            "object_fit": null,
            "grid_auto_columns": null,
            "margin": null,
            "display": null,
            "left": null
          }
        },
        "a7cf3822cbbc431c91fce9b9cb247b53": {
          "model_module": "@jupyter-widgets/controls",
          "model_name": "DescriptionStyleModel",
          "state": {
            "_view_name": "StyleView",
            "_model_name": "DescriptionStyleModel",
            "description_width": "",
            "_view_module": "@jupyter-widgets/base",
            "_model_module_version": "1.5.0",
            "_view_count": null,
            "_view_module_version": "1.2.0",
            "_model_module": "@jupyter-widgets/controls"
          }
        },
        "8410c880a8c34099a1f51a0075d26790": {
          "model_module": "@jupyter-widgets/base",
          "model_name": "LayoutModel",
          "state": {
            "_view_name": "LayoutView",
            "grid_template_rows": null,
            "right": null,
            "justify_content": null,
            "_view_module": "@jupyter-widgets/base",
            "overflow": null,
            "_model_module_version": "1.2.0",
            "_view_count": null,
            "flex_flow": null,
            "width": null,
            "min_width": null,
            "border": null,
            "align_items": null,
            "bottom": null,
            "_model_module": "@jupyter-widgets/base",
            "top": null,
            "grid_column": null,
            "overflow_y": null,
            "overflow_x": null,
            "grid_auto_flow": null,
            "grid_area": null,
            "grid_template_columns": null,
            "flex": null,
            "_model_name": "LayoutModel",
            "justify_items": null,
            "grid_row": null,
            "max_height": null,
            "align_content": null,
            "visibility": null,
            "align_self": null,
            "height": null,
            "min_height": null,
            "padding": null,
            "grid_auto_rows": null,
            "grid_gap": null,
            "max_width": null,
            "order": null,
            "_view_module_version": "1.2.0",
            "grid_template_areas": null,
            "object_position": null,
            "object_fit": null,
            "grid_auto_columns": null,
            "margin": null,
            "display": null,
            "left": null
          }
        },
        "ce2bf82b21cf45a482e3f569c4394bf0": {
          "model_module": "@jupyter-widgets/controls",
          "model_name": "HBoxModel",
          "state": {
            "_view_name": "HBoxView",
            "_dom_classes": [],
            "_model_name": "HBoxModel",
            "_view_module": "@jupyter-widgets/controls",
            "_model_module_version": "1.5.0",
            "_view_count": null,
            "_view_module_version": "1.5.0",
            "box_style": "",
            "layout": "IPY_MODEL_0a45a7d17d9643b7a16c122404ac33a0",
            "_model_module": "@jupyter-widgets/controls",
            "children": [
              "IPY_MODEL_b20532b95d1540ceba7e8012b48dac23",
              "IPY_MODEL_04a327b767354036b53ada633dc92fc9"
            ]
          }
        },
        "0a45a7d17d9643b7a16c122404ac33a0": {
          "model_module": "@jupyter-widgets/base",
          "model_name": "LayoutModel",
          "state": {
            "_view_name": "LayoutView",
            "grid_template_rows": null,
            "right": null,
            "justify_content": null,
            "_view_module": "@jupyter-widgets/base",
            "overflow": null,
            "_model_module_version": "1.2.0",
            "_view_count": null,
            "flex_flow": null,
            "width": null,
            "min_width": null,
            "border": null,
            "align_items": null,
            "bottom": null,
            "_model_module": "@jupyter-widgets/base",
            "top": null,
            "grid_column": null,
            "overflow_y": null,
            "overflow_x": null,
            "grid_auto_flow": null,
            "grid_area": null,
            "grid_template_columns": null,
            "flex": null,
            "_model_name": "LayoutModel",
            "justify_items": null,
            "grid_row": null,
            "max_height": null,
            "align_content": null,
            "visibility": null,
            "align_self": null,
            "height": null,
            "min_height": null,
            "padding": null,
            "grid_auto_rows": null,
            "grid_gap": null,
            "max_width": null,
            "order": null,
            "_view_module_version": "1.2.0",
            "grid_template_areas": null,
            "object_position": null,
            "object_fit": null,
            "grid_auto_columns": null,
            "margin": null,
            "display": null,
            "left": null
          }
        },
        "b20532b95d1540ceba7e8012b48dac23": {
          "model_module": "@jupyter-widgets/controls",
          "model_name": "IntProgressModel",
          "state": {
            "_view_name": "ProgressView",
            "style": "IPY_MODEL_6667faaae8394b2998620aff5aee584a",
            "_dom_classes": [],
            "description": "Epoch",
            "_model_name": "IntProgressModel",
            "bar_style": "success",
            "max": 5,
            "_view_module": "@jupyter-widgets/controls",
            "_model_module_version": "1.5.0",
            "value": 5,
            "_view_count": null,
            "_view_module_version": "1.5.0",
            "orientation": "horizontal",
            "min": 0,
            "description_tooltip": null,
            "_model_module": "@jupyter-widgets/controls",
            "layout": "IPY_MODEL_7f88694d7a7a4dbda36d2fac56242e4f"
          }
        },
        "04a327b767354036b53ada633dc92fc9": {
          "model_module": "@jupyter-widgets/controls",
          "model_name": "HTMLModel",
          "state": {
            "_view_name": "HTMLView",
            "style": "IPY_MODEL_f0615f25468b4ebb9b67022b49e9d593",
            "_dom_classes": [],
            "description": "",
            "_model_name": "HTMLModel",
            "placeholder": "​",
            "_view_module": "@jupyter-widgets/controls",
            "_model_module_version": "1.5.0",
            "value": "100% 5/5 [18:52&lt;00:00, 226.50s/it]",
            "_view_count": null,
            "_view_module_version": "1.5.0",
            "description_tooltip": null,
            "_model_module": "@jupyter-widgets/controls",
            "layout": "IPY_MODEL_2e44b051c4ed4d80845adc1d7ce5ed55"
          }
        },
        "6667faaae8394b2998620aff5aee584a": {
          "model_module": "@jupyter-widgets/controls",
          "model_name": "ProgressStyleModel",
          "state": {
            "_view_name": "StyleView",
            "_model_name": "ProgressStyleModel",
            "description_width": "initial",
            "_view_module": "@jupyter-widgets/base",
            "_model_module_version": "1.5.0",
            "_view_count": null,
            "_view_module_version": "1.2.0",
            "bar_color": null,
            "_model_module": "@jupyter-widgets/controls"
          }
        },
        "7f88694d7a7a4dbda36d2fac56242e4f": {
          "model_module": "@jupyter-widgets/base",
          "model_name": "LayoutModel",
          "state": {
            "_view_name": "LayoutView",
            "grid_template_rows": null,
            "right": null,
            "justify_content": null,
            "_view_module": "@jupyter-widgets/base",
            "overflow": null,
            "_model_module_version": "1.2.0",
            "_view_count": null,
            "flex_flow": null,
            "width": null,
            "min_width": null,
            "border": null,
            "align_items": null,
            "bottom": null,
            "_model_module": "@jupyter-widgets/base",
            "top": null,
            "grid_column": null,
            "overflow_y": null,
            "overflow_x": null,
            "grid_auto_flow": null,
            "grid_area": null,
            "grid_template_columns": null,
            "flex": null,
            "_model_name": "LayoutModel",
            "justify_items": null,
            "grid_row": null,
            "max_height": null,
            "align_content": null,
            "visibility": null,
            "align_self": null,
            "height": null,
            "min_height": null,
            "padding": null,
            "grid_auto_rows": null,
            "grid_gap": null,
            "max_width": null,
            "order": null,
            "_view_module_version": "1.2.0",
            "grid_template_areas": null,
            "object_position": null,
            "object_fit": null,
            "grid_auto_columns": null,
            "margin": null,
            "display": null,
            "left": null
          }
        },
        "f0615f25468b4ebb9b67022b49e9d593": {
          "model_module": "@jupyter-widgets/controls",
          "model_name": "DescriptionStyleModel",
          "state": {
            "_view_name": "StyleView",
            "_model_name": "DescriptionStyleModel",
            "description_width": "",
            "_view_module": "@jupyter-widgets/base",
            "_model_module_version": "1.5.0",
            "_view_count": null,
            "_view_module_version": "1.2.0",
            "_model_module": "@jupyter-widgets/controls"
          }
        },
        "2e44b051c4ed4d80845adc1d7ce5ed55": {
          "model_module": "@jupyter-widgets/base",
          "model_name": "LayoutModel",
          "state": {
            "_view_name": "LayoutView",
            "grid_template_rows": null,
            "right": null,
            "justify_content": null,
            "_view_module": "@jupyter-widgets/base",
            "overflow": null,
            "_model_module_version": "1.2.0",
            "_view_count": null,
            "flex_flow": null,
            "width": null,
            "min_width": null,
            "border": null,
            "align_items": null,
            "bottom": null,
            "_model_module": "@jupyter-widgets/base",
            "top": null,
            "grid_column": null,
            "overflow_y": null,
            "overflow_x": null,
            "grid_auto_flow": null,
            "grid_area": null,
            "grid_template_columns": null,
            "flex": null,
            "_model_name": "LayoutModel",
            "justify_items": null,
            "grid_row": null,
            "max_height": null,
            "align_content": null,
            "visibility": null,
            "align_self": null,
            "height": null,
            "min_height": null,
            "padding": null,
            "grid_auto_rows": null,
            "grid_gap": null,
            "max_width": null,
            "order": null,
            "_view_module_version": "1.2.0",
            "grid_template_areas": null,
            "object_position": null,
            "object_fit": null,
            "grid_auto_columns": null,
            "margin": null,
            "display": null,
            "left": null
          }
        },
        "cdd04f8a773940f7a1b13c4e8de717a5": {
          "model_module": "@jupyter-widgets/controls",
          "model_name": "HBoxModel",
          "state": {
            "_view_name": "HBoxView",
            "_dom_classes": [],
            "_model_name": "HBoxModel",
            "_view_module": "@jupyter-widgets/controls",
            "_model_module_version": "1.5.0",
            "_view_count": null,
            "_view_module_version": "1.5.0",
            "box_style": "",
            "layout": "IPY_MODEL_ecb9610caf6541d2b05947abe260acb2",
            "_model_module": "@jupyter-widgets/controls",
            "children": [
              "IPY_MODEL_a83c251685304ed7892630eb73bd3624",
              "IPY_MODEL_ad1dcd8a21634fdf91a1586c5c797f98"
            ]
          }
        },
        "ecb9610caf6541d2b05947abe260acb2": {
          "model_module": "@jupyter-widgets/base",
          "model_name": "LayoutModel",
          "state": {
            "_view_name": "LayoutView",
            "grid_template_rows": null,
            "right": null,
            "justify_content": null,
            "_view_module": "@jupyter-widgets/base",
            "overflow": null,
            "_model_module_version": "1.2.0",
            "_view_count": null,
            "flex_flow": null,
            "width": null,
            "min_width": null,
            "border": null,
            "align_items": null,
            "bottom": null,
            "_model_module": "@jupyter-widgets/base",
            "top": null,
            "grid_column": null,
            "overflow_y": null,
            "overflow_x": null,
            "grid_auto_flow": null,
            "grid_area": null,
            "grid_template_columns": null,
            "flex": null,
            "_model_name": "LayoutModel",
            "justify_items": null,
            "grid_row": null,
            "max_height": null,
            "align_content": null,
            "visibility": null,
            "align_self": null,
            "height": null,
            "min_height": null,
            "padding": null,
            "grid_auto_rows": null,
            "grid_gap": null,
            "max_width": null,
            "order": null,
            "_view_module_version": "1.2.0",
            "grid_template_areas": null,
            "object_position": null,
            "object_fit": null,
            "grid_auto_columns": null,
            "margin": null,
            "display": null,
            "left": null
          }
        },
        "a83c251685304ed7892630eb73bd3624": {
          "model_module": "@jupyter-widgets/controls",
          "model_name": "IntProgressModel",
          "state": {
            "_view_name": "ProgressView",
            "style": "IPY_MODEL_6ccc339e5cda4c369c9d6f51c831c090",
            "_dom_classes": [],
            "description": "Epoch",
            "_model_name": "IntProgressModel",
            "bar_style": "success",
            "max": 3,
            "_view_module": "@jupyter-widgets/controls",
            "_model_module_version": "1.5.0",
            "value": 3,
            "_view_count": null,
            "_view_module_version": "1.5.0",
            "orientation": "horizontal",
            "min": 0,
            "description_tooltip": null,
            "_model_module": "@jupyter-widgets/controls",
            "layout": "IPY_MODEL_fc387b6812764c06bb6b465a9771acbd"
          }
        },
        "ad1dcd8a21634fdf91a1586c5c797f98": {
          "model_module": "@jupyter-widgets/controls",
          "model_name": "HTMLModel",
          "state": {
            "_view_name": "HTMLView",
            "style": "IPY_MODEL_fb846aaeb1fb4010a5acdaa1358ae72e",
            "_dom_classes": [],
            "description": "",
            "_model_name": "HTMLModel",
            "placeholder": "​",
            "_view_module": "@jupyter-widgets/controls",
            "_model_module_version": "1.5.0",
            "value": "100% 3/3 [11:19&lt;00:00, 226.72s/it]",
            "_view_count": null,
            "_view_module_version": "1.5.0",
            "description_tooltip": null,
            "_model_module": "@jupyter-widgets/controls",
            "layout": "IPY_MODEL_848b471857c34079b412de595616a5a5"
          }
        },
        "6ccc339e5cda4c369c9d6f51c831c090": {
          "model_module": "@jupyter-widgets/controls",
          "model_name": "ProgressStyleModel",
          "state": {
            "_view_name": "StyleView",
            "_model_name": "ProgressStyleModel",
            "description_width": "initial",
            "_view_module": "@jupyter-widgets/base",
            "_model_module_version": "1.5.0",
            "_view_count": null,
            "_view_module_version": "1.2.0",
            "bar_color": null,
            "_model_module": "@jupyter-widgets/controls"
          }
        },
        "fc387b6812764c06bb6b465a9771acbd": {
          "model_module": "@jupyter-widgets/base",
          "model_name": "LayoutModel",
          "state": {
            "_view_name": "LayoutView",
            "grid_template_rows": null,
            "right": null,
            "justify_content": null,
            "_view_module": "@jupyter-widgets/base",
            "overflow": null,
            "_model_module_version": "1.2.0",
            "_view_count": null,
            "flex_flow": null,
            "width": null,
            "min_width": null,
            "border": null,
            "align_items": null,
            "bottom": null,
            "_model_module": "@jupyter-widgets/base",
            "top": null,
            "grid_column": null,
            "overflow_y": null,
            "overflow_x": null,
            "grid_auto_flow": null,
            "grid_area": null,
            "grid_template_columns": null,
            "flex": null,
            "_model_name": "LayoutModel",
            "justify_items": null,
            "grid_row": null,
            "max_height": null,
            "align_content": null,
            "visibility": null,
            "align_self": null,
            "height": null,
            "min_height": null,
            "padding": null,
            "grid_auto_rows": null,
            "grid_gap": null,
            "max_width": null,
            "order": null,
            "_view_module_version": "1.2.0",
            "grid_template_areas": null,
            "object_position": null,
            "object_fit": null,
            "grid_auto_columns": null,
            "margin": null,
            "display": null,
            "left": null
          }
        },
        "fb846aaeb1fb4010a5acdaa1358ae72e": {
          "model_module": "@jupyter-widgets/controls",
          "model_name": "DescriptionStyleModel",
          "state": {
            "_view_name": "StyleView",
            "_model_name": "DescriptionStyleModel",
            "description_width": "",
            "_view_module": "@jupyter-widgets/base",
            "_model_module_version": "1.5.0",
            "_view_count": null,
            "_view_module_version": "1.2.0",
            "_model_module": "@jupyter-widgets/controls"
          }
        },
        "848b471857c34079b412de595616a5a5": {
          "model_module": "@jupyter-widgets/base",
          "model_name": "LayoutModel",
          "state": {
            "_view_name": "LayoutView",
            "grid_template_rows": null,
            "right": null,
            "justify_content": null,
            "_view_module": "@jupyter-widgets/base",
            "overflow": null,
            "_model_module_version": "1.2.0",
            "_view_count": null,
            "flex_flow": null,
            "width": null,
            "min_width": null,
            "border": null,
            "align_items": null,
            "bottom": null,
            "_model_module": "@jupyter-widgets/base",
            "top": null,
            "grid_column": null,
            "overflow_y": null,
            "overflow_x": null,
            "grid_auto_flow": null,
            "grid_area": null,
            "grid_template_columns": null,
            "flex": null,
            "_model_name": "LayoutModel",
            "justify_items": null,
            "grid_row": null,
            "max_height": null,
            "align_content": null,
            "visibility": null,
            "align_self": null,
            "height": null,
            "min_height": null,
            "padding": null,
            "grid_auto_rows": null,
            "grid_gap": null,
            "max_width": null,
            "order": null,
            "_view_module_version": "1.2.0",
            "grid_template_areas": null,
            "object_position": null,
            "object_fit": null,
            "grid_auto_columns": null,
            "margin": null,
            "display": null,
            "left": null
          }
        },
        "1b2a5dc34d634a7bb093878e81e4af8a": {
          "model_module": "@jupyter-widgets/controls",
          "model_name": "HBoxModel",
          "state": {
            "_view_name": "HBoxView",
            "_dom_classes": [],
            "_model_name": "HBoxModel",
            "_view_module": "@jupyter-widgets/controls",
            "_model_module_version": "1.5.0",
            "_view_count": null,
            "_view_module_version": "1.5.0",
            "box_style": "",
            "layout": "IPY_MODEL_b627ae6b46d641ccb80ca455a8d6cf7c",
            "_model_module": "@jupyter-widgets/controls",
            "children": [
              "IPY_MODEL_20d1fe9ac1684982b37c45fd9931f7f3",
              "IPY_MODEL_eef0193c7805469fa9c1fcf5748e6854"
            ]
          }
        },
        "b627ae6b46d641ccb80ca455a8d6cf7c": {
          "model_module": "@jupyter-widgets/base",
          "model_name": "LayoutModel",
          "state": {
            "_view_name": "LayoutView",
            "grid_template_rows": null,
            "right": null,
            "justify_content": null,
            "_view_module": "@jupyter-widgets/base",
            "overflow": null,
            "_model_module_version": "1.2.0",
            "_view_count": null,
            "flex_flow": null,
            "width": null,
            "min_width": null,
            "border": null,
            "align_items": null,
            "bottom": null,
            "_model_module": "@jupyter-widgets/base",
            "top": null,
            "grid_column": null,
            "overflow_y": null,
            "overflow_x": null,
            "grid_auto_flow": null,
            "grid_area": null,
            "grid_template_columns": null,
            "flex": null,
            "_model_name": "LayoutModel",
            "justify_items": null,
            "grid_row": null,
            "max_height": null,
            "align_content": null,
            "visibility": null,
            "align_self": null,
            "height": null,
            "min_height": null,
            "padding": null,
            "grid_auto_rows": null,
            "grid_gap": null,
            "max_width": null,
            "order": null,
            "_view_module_version": "1.2.0",
            "grid_template_areas": null,
            "object_position": null,
            "object_fit": null,
            "grid_auto_columns": null,
            "margin": null,
            "display": null,
            "left": null
          }
        },
        "20d1fe9ac1684982b37c45fd9931f7f3": {
          "model_module": "@jupyter-widgets/controls",
          "model_name": "IntProgressModel",
          "state": {
            "_view_name": "ProgressView",
            "style": "IPY_MODEL_69c75bc32ff7417ea5f71ab6180874ed",
            "_dom_classes": [],
            "description": "",
            "_model_name": "IntProgressModel",
            "bar_style": "success",
            "max": 1000,
            "_view_module": "@jupyter-widgets/controls",
            "_model_module_version": "1.5.0",
            "value": 1000,
            "_view_count": null,
            "_view_module_version": "1.5.0",
            "orientation": "horizontal",
            "min": 0,
            "description_tooltip": null,
            "_model_module": "@jupyter-widgets/controls",
            "layout": "IPY_MODEL_4c8b27a3e14c416dbbb25141c8a4afa7"
          }
        },
        "eef0193c7805469fa9c1fcf5748e6854": {
          "model_module": "@jupyter-widgets/controls",
          "model_name": "HTMLModel",
          "state": {
            "_view_name": "HTMLView",
            "style": "IPY_MODEL_ddb164e9b07e4fc0a272dd37df25eedd",
            "_dom_classes": [],
            "description": "",
            "_model_name": "HTMLModel",
            "placeholder": "​",
            "_view_module": "@jupyter-widgets/controls",
            "_model_module_version": "1.5.0",
            "value": "100% 1000/1000 [00:04&lt;00:00, 237.07it/s]",
            "_view_count": null,
            "_view_module_version": "1.5.0",
            "description_tooltip": null,
            "_model_module": "@jupyter-widgets/controls",
            "layout": "IPY_MODEL_ec7f14f2f44b4e8eba62388d611b5143"
          }
        },
        "69c75bc32ff7417ea5f71ab6180874ed": {
          "model_module": "@jupyter-widgets/controls",
          "model_name": "ProgressStyleModel",
          "state": {
            "_view_name": "StyleView",
            "_model_name": "ProgressStyleModel",
            "description_width": "",
            "_view_module": "@jupyter-widgets/base",
            "_model_module_version": "1.5.0",
            "_view_count": null,
            "_view_module_version": "1.2.0",
            "bar_color": null,
            "_model_module": "@jupyter-widgets/controls"
          }
        },
        "4c8b27a3e14c416dbbb25141c8a4afa7": {
          "model_module": "@jupyter-widgets/base",
          "model_name": "LayoutModel",
          "state": {
            "_view_name": "LayoutView",
            "grid_template_rows": null,
            "right": null,
            "justify_content": null,
            "_view_module": "@jupyter-widgets/base",
            "overflow": null,
            "_model_module_version": "1.2.0",
            "_view_count": null,
            "flex_flow": null,
            "width": null,
            "min_width": null,
            "border": null,
            "align_items": null,
            "bottom": null,
            "_model_module": "@jupyter-widgets/base",
            "top": null,
            "grid_column": null,
            "overflow_y": null,
            "overflow_x": null,
            "grid_auto_flow": null,
            "grid_area": null,
            "grid_template_columns": null,
            "flex": null,
            "_model_name": "LayoutModel",
            "justify_items": null,
            "grid_row": null,
            "max_height": null,
            "align_content": null,
            "visibility": null,
            "align_self": null,
            "height": null,
            "min_height": null,
            "padding": null,
            "grid_auto_rows": null,
            "grid_gap": null,
            "max_width": null,
            "order": null,
            "_view_module_version": "1.2.0",
            "grid_template_areas": null,
            "object_position": null,
            "object_fit": null,
            "grid_auto_columns": null,
            "margin": null,
            "display": null,
            "left": null
          }
        },
        "ddb164e9b07e4fc0a272dd37df25eedd": {
          "model_module": "@jupyter-widgets/controls",
          "model_name": "DescriptionStyleModel",
          "state": {
            "_view_name": "StyleView",
            "_model_name": "DescriptionStyleModel",
            "description_width": "",
            "_view_module": "@jupyter-widgets/base",
            "_model_module_version": "1.5.0",
            "_view_count": null,
            "_view_module_version": "1.2.0",
            "_model_module": "@jupyter-widgets/controls"
          }
        },
        "ec7f14f2f44b4e8eba62388d611b5143": {
          "model_module": "@jupyter-widgets/base",
          "model_name": "LayoutModel",
          "state": {
            "_view_name": "LayoutView",
            "grid_template_rows": null,
            "right": null,
            "justify_content": null,
            "_view_module": "@jupyter-widgets/base",
            "overflow": null,
            "_model_module_version": "1.2.0",
            "_view_count": null,
            "flex_flow": null,
            "width": null,
            "min_width": null,
            "border": null,
            "align_items": null,
            "bottom": null,
            "_model_module": "@jupyter-widgets/base",
            "top": null,
            "grid_column": null,
            "overflow_y": null,
            "overflow_x": null,
            "grid_auto_flow": null,
            "grid_area": null,
            "grid_template_columns": null,
            "flex": null,
            "_model_name": "LayoutModel",
            "justify_items": null,
            "grid_row": null,
            "max_height": null,
            "align_content": null,
            "visibility": null,
            "align_self": null,
            "height": null,
            "min_height": null,
            "padding": null,
            "grid_auto_rows": null,
            "grid_gap": null,
            "max_width": null,
            "order": null,
            "_view_module_version": "1.2.0",
            "grid_template_areas": null,
            "object_position": null,
            "object_fit": null,
            "grid_auto_columns": null,
            "margin": null,
            "display": null,
            "left": null
          }
        },
        "09e5655501ae4735892a08f48458f627": {
          "model_module": "@jupyter-widgets/controls",
          "model_name": "HBoxModel",
          "state": {
            "_view_name": "HBoxView",
            "_dom_classes": [],
            "_model_name": "HBoxModel",
            "_view_module": "@jupyter-widgets/controls",
            "_model_module_version": "1.5.0",
            "_view_count": null,
            "_view_module_version": "1.5.0",
            "box_style": "",
            "layout": "IPY_MODEL_8c9cbbe260de427cb46dc0d024ddfa3f",
            "_model_module": "@jupyter-widgets/controls",
            "children": [
              "IPY_MODEL_3cd41cfcfcb44f89883b5614426e9996",
              "IPY_MODEL_856ce9afa177437097cace6496d5869e"
            ]
          }
        },
        "8c9cbbe260de427cb46dc0d024ddfa3f": {
          "model_module": "@jupyter-widgets/base",
          "model_name": "LayoutModel",
          "state": {
            "_view_name": "LayoutView",
            "grid_template_rows": null,
            "right": null,
            "justify_content": null,
            "_view_module": "@jupyter-widgets/base",
            "overflow": null,
            "_model_module_version": "1.2.0",
            "_view_count": null,
            "flex_flow": null,
            "width": null,
            "min_width": null,
            "border": null,
            "align_items": null,
            "bottom": null,
            "_model_module": "@jupyter-widgets/base",
            "top": null,
            "grid_column": null,
            "overflow_y": null,
            "overflow_x": null,
            "grid_auto_flow": null,
            "grid_area": null,
            "grid_template_columns": null,
            "flex": null,
            "_model_name": "LayoutModel",
            "justify_items": null,
            "grid_row": null,
            "max_height": null,
            "align_content": null,
            "visibility": null,
            "align_self": null,
            "height": null,
            "min_height": null,
            "padding": null,
            "grid_auto_rows": null,
            "grid_gap": null,
            "max_width": null,
            "order": null,
            "_view_module_version": "1.2.0",
            "grid_template_areas": null,
            "object_position": null,
            "object_fit": null,
            "grid_auto_columns": null,
            "margin": null,
            "display": null,
            "left": null
          }
        },
        "3cd41cfcfcb44f89883b5614426e9996": {
          "model_module": "@jupyter-widgets/controls",
          "model_name": "IntProgressModel",
          "state": {
            "_view_name": "ProgressView",
            "style": "IPY_MODEL_95af6e621ffe4a0caa4790fc2b8c143a",
            "_dom_classes": [],
            "description": "",
            "_model_name": "IntProgressModel",
            "bar_style": "success",
            "max": 1000,
            "_view_module": "@jupyter-widgets/controls",
            "_model_module_version": "1.5.0",
            "value": 1000,
            "_view_count": null,
            "_view_module_version": "1.5.0",
            "orientation": "horizontal",
            "min": 0,
            "description_tooltip": null,
            "_model_module": "@jupyter-widgets/controls",
            "layout": "IPY_MODEL_c2e869bca73b463f944a9ab91a7fa048"
          }
        },
        "856ce9afa177437097cace6496d5869e": {
          "model_module": "@jupyter-widgets/controls",
          "model_name": "HTMLModel",
          "state": {
            "_view_name": "HTMLView",
            "style": "IPY_MODEL_44f568296a904f31b9df56b32446c42e",
            "_dom_classes": [],
            "description": "",
            "_model_name": "HTMLModel",
            "placeholder": "​",
            "_view_module": "@jupyter-widgets/controls",
            "_model_module_version": "1.5.0",
            "value": "100% 1000/1000 [00:00&lt;00:00, 2070.01it/s]",
            "_view_count": null,
            "_view_module_version": "1.5.0",
            "description_tooltip": null,
            "_model_module": "@jupyter-widgets/controls",
            "layout": "IPY_MODEL_793fc1e01551451db195e2be156668bd"
          }
        },
        "95af6e621ffe4a0caa4790fc2b8c143a": {
          "model_module": "@jupyter-widgets/controls",
          "model_name": "ProgressStyleModel",
          "state": {
            "_view_name": "StyleView",
            "_model_name": "ProgressStyleModel",
            "description_width": "",
            "_view_module": "@jupyter-widgets/base",
            "_model_module_version": "1.5.0",
            "_view_count": null,
            "_view_module_version": "1.2.0",
            "bar_color": null,
            "_model_module": "@jupyter-widgets/controls"
          }
        },
        "c2e869bca73b463f944a9ab91a7fa048": {
          "model_module": "@jupyter-widgets/base",
          "model_name": "LayoutModel",
          "state": {
            "_view_name": "LayoutView",
            "grid_template_rows": null,
            "right": null,
            "justify_content": null,
            "_view_module": "@jupyter-widgets/base",
            "overflow": null,
            "_model_module_version": "1.2.0",
            "_view_count": null,
            "flex_flow": null,
            "width": null,
            "min_width": null,
            "border": null,
            "align_items": null,
            "bottom": null,
            "_model_module": "@jupyter-widgets/base",
            "top": null,
            "grid_column": null,
            "overflow_y": null,
            "overflow_x": null,
            "grid_auto_flow": null,
            "grid_area": null,
            "grid_template_columns": null,
            "flex": null,
            "_model_name": "LayoutModel",
            "justify_items": null,
            "grid_row": null,
            "max_height": null,
            "align_content": null,
            "visibility": null,
            "align_self": null,
            "height": null,
            "min_height": null,
            "padding": null,
            "grid_auto_rows": null,
            "grid_gap": null,
            "max_width": null,
            "order": null,
            "_view_module_version": "1.2.0",
            "grid_template_areas": null,
            "object_position": null,
            "object_fit": null,
            "grid_auto_columns": null,
            "margin": null,
            "display": null,
            "left": null
          }
        },
        "44f568296a904f31b9df56b32446c42e": {
          "model_module": "@jupyter-widgets/controls",
          "model_name": "DescriptionStyleModel",
          "state": {
            "_view_name": "StyleView",
            "_model_name": "DescriptionStyleModel",
            "description_width": "",
            "_view_module": "@jupyter-widgets/base",
            "_model_module_version": "1.5.0",
            "_view_count": null,
            "_view_module_version": "1.2.0",
            "_model_module": "@jupyter-widgets/controls"
          }
        },
        "793fc1e01551451db195e2be156668bd": {
          "model_module": "@jupyter-widgets/base",
          "model_name": "LayoutModel",
          "state": {
            "_view_name": "LayoutView",
            "grid_template_rows": null,
            "right": null,
            "justify_content": null,
            "_view_module": "@jupyter-widgets/base",
            "overflow": null,
            "_model_module_version": "1.2.0",
            "_view_count": null,
            "flex_flow": null,
            "width": null,
            "min_width": null,
            "border": null,
            "align_items": null,
            "bottom": null,
            "_model_module": "@jupyter-widgets/base",
            "top": null,
            "grid_column": null,
            "overflow_y": null,
            "overflow_x": null,
            "grid_auto_flow": null,
            "grid_area": null,
            "grid_template_columns": null,
            "flex": null,
            "_model_name": "LayoutModel",
            "justify_items": null,
            "grid_row": null,
            "max_height": null,
            "align_content": null,
            "visibility": null,
            "align_self": null,
            "height": null,
            "min_height": null,
            "padding": null,
            "grid_auto_rows": null,
            "grid_gap": null,
            "max_width": null,
            "order": null,
            "_view_module_version": "1.2.0",
            "grid_template_areas": null,
            "object_position": null,
            "object_fit": null,
            "grid_auto_columns": null,
            "margin": null,
            "display": null,
            "left": null
          }
        }
      }
    }
  },
  "cells": [
    {
      "cell_type": "markdown",
      "metadata": {
        "id": "view-in-github",
        "colab_type": "text"
      },
      "source": [
        "<a href=\"https://colab.research.google.com/github/VadimFarutin/natural-language-processing/blob/master/task4.ipynb\" target=\"_parent\"><img src=\"https://colab.research.google.com/assets/colab-badge.svg\" alt=\"Open In Colab\"/></a>"
      ]
    },
    {
      "cell_type": "code",
      "metadata": {
        "colab_type": "code",
        "id": "AfYk_JjWsim4",
        "colab": {}
      },
      "source": [
        "!pip install wandb -q\n",
        "!pip install razdel"
      ],
      "execution_count": 0,
      "outputs": []
    },
    {
      "cell_type": "code",
      "metadata": {
        "id": "wA6rdH6heAF1",
        "colab_type": "code",
        "colab": {}
      },
      "source": [
        "from google.colab import drive\n",
        "drive.mount('/content/drive')"
      ],
      "execution_count": 0,
      "outputs": []
    },
    {
      "cell_type": "code",
      "metadata": {
        "colab_type": "code",
        "id": "Mx6pvu3gspLN",
        "colab": {}
      },
      "source": [
        "import wandb"
      ],
      "execution_count": 0,
      "outputs": []
    },
    {
      "cell_type": "code",
      "metadata": {
        "colab_type": "code",
        "id": "QiXYsi05stNH",
        "colab": {}
      },
      "source": [
        "!wandb login"
      ],
      "execution_count": 0,
      "outputs": []
    },
    {
      "cell_type": "code",
      "metadata": {
        "colab_type": "code",
        "id": "-GdLTPv3xdKi",
        "colab": {}
      },
      "source": [
        "import re\n",
        "import csv\n",
        "import string\n",
        "from collections import defaultdict\n",
        "from tqdm import tnrange, tqdm_notebook\n",
        "from tqdm.auto import tqdm\n",
        "from sklearn.model_selection import train_test_split\n",
        "import numpy as np\n",
        "from matplotlib import pyplot as plt\n",
        "\n",
        "import torch\n",
        "import torch.nn as nn\n",
        "import torch.nn.functional as F\n",
        "import torch.optim as optim\n",
        "from torch.utils.data.dataset import Dataset\n",
        "from torch.nn.utils.rnn import pad_sequence\n",
        "\n",
        "# from pymystem3 import Mystem\n",
        "from nltk.stem.snowball import SnowballStemmer\n",
        "import nltk\n",
        "from nltk.corpus import stopwords\n",
        "import string\n",
        "from razdel import sentenize\n",
        "from nltk.tokenize import wordpunct_tokenize as tokenize\n",
        "from nltk.stem.porter import PorterStemmer\n",
        "from sklearn.feature_extraction.text import TfidfVectorizer\n",
        "from scipy.spatial.distance import cosine"
      ],
      "execution_count": 0,
      "outputs": []
    },
    {
      "cell_type": "code",
      "metadata": {
        "id": "y_HbzEKUYWEI",
        "colab_type": "code",
        "colab": {}
      },
      "source": [
        "nltk.download('punkt')\n",
        "nltk.download('stopwords')"
      ],
      "execution_count": 0,
      "outputs": []
    },
    {
      "cell_type": "code",
      "metadata": {
        "colab_type": "code",
        "id": "UnFSXUV3xdK0",
        "colab": {}
      },
      "source": [
        "SEED = 1\n",
        "torch.manual_seed(SEED)\n",
        "np.random.seed(SEED)"
      ],
      "execution_count": 0,
      "outputs": []
    },
    {
      "cell_type": "code",
      "metadata": {
        "colab_type": "code",
        "id": "th_KCfdCxdLC",
        "outputId": "0edbec5e-7f94-4bdf-bb9f-9a56f2836414",
        "colab": {
          "base_uri": "https://localhost:8080/",
          "height": 35
        }
      },
      "source": [
        "device = torch.device('cuda' if torch.cuda.is_available() else 'cpu')\n",
        "print(device)"
      ],
      "execution_count": 9,
      "outputs": [
        {
          "output_type": "stream",
          "text": [
            "cuda\n"
          ],
          "name": "stdout"
        }
      ]
    },
    {
      "cell_type": "code",
      "metadata": {
        "id": "zF1aznNsWRHZ",
        "colab_type": "code",
        "colab": {}
      },
      "source": [
        "def pos_answer(paragraph, answer):\n",
        "    sents = [token.text for token in list(sentenize(paragraph))]\n",
        "\n",
        "    for sent in sents:\n",
        "        ans_start = sent.lower().find(answer.lower())\n",
        "\n",
        "        if ans_start != -1:\n",
        "            return sent, ans_start\n",
        "\n",
        "    return \"\", -1"
      ],
      "execution_count": 0,
      "outputs": []
    },
    {
      "cell_type": "code",
      "metadata": {
        "colab_type": "code",
        "id": "z1q5gRXqxdLV",
        "colab": {}
      },
      "source": [
        "def read_dataset():\n",
        "    input_filename = \"/content/drive/My Drive/train_qa.csv\"\n",
        "    dataset = []\n",
        "    missed = []\n",
        "\n",
        "    with open(input_filename, encoding='utf-8') as input_file:\n",
        "        reader = csv.reader(input_file)\n",
        "        next(reader)\n",
        "        for row in reader:\n",
        "            query = row[3]\n",
        "            if query[-1] == '?':\n",
        "                query = query[:-1]\n",
        "            answer = row[4]\n",
        "            if answer[-3:] == \"...\":\n",
        "                answer = answer[:-3]\n",
        "            if answer[:3] == \"...\":\n",
        "                answer = answer[3:]\n",
        "            if answer[0] == ' ':\n",
        "                answer = answer[1:]\n",
        "            if answer[0] in string.punctuation:\n",
        "                answer = answer[1:]\n",
        "            if answer[-1] in string.punctuation:\n",
        "                answer = answer[:-1]\n",
        "\n",
        "            sent, ans_start = pos_answer(row[2], answer)\n",
        "            ans_len = len(answer)\n",
        "\n",
        "            if ans_start != -1:\n",
        "                dataset.append({'paragraph': re.split('(\\W)', sent),\n",
        "                                'query': re.split('(\\W)', query),\n",
        "                                'answer': (ans_start, ans_len)})\n",
        "            else:\n",
        "                missed.append(answer)\n",
        "                                \n",
        "    return dataset, missed\n"
      ],
      "execution_count": 0,
      "outputs": []
    },
    {
      "cell_type": "code",
      "metadata": {
        "colab_type": "code",
        "id": "Y1Ni4f8NxdLt",
        "colab": {}
      },
      "source": [
        "dataset, missed = read_dataset()"
      ],
      "execution_count": 0,
      "outputs": []
    },
    {
      "cell_type": "code",
      "metadata": {
        "colab_type": "code",
        "id": "uuWkev9L00yv",
        "outputId": "3aa92bfd-115a-4040-baac-51df4d786d82",
        "colab": {
          "base_uri": "https://localhost:8080/",
          "height": 35
        }
      },
      "source": [
        "print(len(dataset))"
      ],
      "execution_count": 80,
      "outputs": [
        {
          "output_type": "stream",
          "text": [
            "50297\n"
          ],
          "name": "stdout"
        }
      ]
    },
    {
      "cell_type": "code",
      "metadata": {
        "colab_type": "code",
        "id": "LbOdiSCuxdL1",
        "outputId": "f2ebb9b2-a654-4ca2-d3ad-95f7a98eab6c",
        "colab": {
          "base_uri": "https://localhost:8080/",
          "height": 55
        }
      },
      "source": [
        "print(dataset[0])"
      ],
      "execution_count": 16,
      "outputs": [
        {
          "output_type": "stream",
          "text": [
            "{'paragraph': ['Первые', ' ', 'упоминания', ' ', 'о', ' ', 'строении', ' ', 'человеческого', ' ', 'тела', ' ', 'встречаются', ' ', 'в', ' ', 'Древнем', ' ', 'Египте', '.', ''], 'query': ['Где', ' ', 'встречаются', ' ', 'первые', ' ', 'упоминания', ' ', 'о', ' ', 'строении', ' ', 'человеческого', ' ', 'тела'], 'answer': (60, 16)}\n"
          ],
          "name": "stdout"
        }
      ]
    },
    {
      "cell_type": "code",
      "metadata": {
        "id": "w8wSXcXld2r7",
        "colab_type": "code",
        "outputId": "ac117d7a-b28a-4644-98eb-4fdb9172f102",
        "colab": {
          "base_uri": "https://localhost:8080/",
          "height": 55
        }
      },
      "source": [
        "print(missed[:10])"
      ],
      "execution_count": 20,
      "outputs": [
        {
          "output_type": "stream",
          "text": [
            "['собравшихся вместе героев нестеровского полотна На Руси. Душа народа ', 'Дж. Самнером', 'прелестное место , предлагающее Plen. and optabil. Coit. ', 'работы по мелодике стиха Эд. Сиверса', 'Впечатление. Восходящее солнце ', ' Концентрация многих шаперонов в клетке возрастает', 'Г. Р. Джонсон (Gary R. Johnson) и В. С. Фалгер (V.S. Falger', 'Traité élémentaire de chimie (I, chap. 3', 'общественные деятели, врачи и учителя, инженеры-конструкторы и преподаватели, труженики тыла и артисты, учёные и художники, строители, писатели, спортсмены и космонавты. Н', 'под руководством Дж. Р. Уомерзли и при участии Алана Тьюринга компьютере, известном как Марк I']\n"
          ],
          "name": "stdout"
        }
      ]
    },
    {
      "cell_type": "code",
      "metadata": {
        "colab_type": "code",
        "id": "cuWXjbpn7BxL",
        "colab": {}
      },
      "source": [
        "stemmer = SnowballStemmer(\"russian\")\n",
        "# stemmer = Mystem()"
      ],
      "execution_count": 0,
      "outputs": []
    },
    {
      "cell_type": "code",
      "metadata": {
        "colab_type": "code",
        "id": "fpm8j82GIkwm",
        "colab": {}
      },
      "source": [
        "word_to_idx = defaultdict(lambda: 0)\n",
        "separator = 60000\n",
        "pad_value = 60001"
      ],
      "execution_count": 0,
      "outputs": []
    },
    {
      "cell_type": "code",
      "metadata": {
        "id": "VtoRWOt9d2sq",
        "colab_type": "code",
        "colab": {}
      },
      "source": [
        "max_p_len = [0]"
      ],
      "execution_count": 0,
      "outputs": []
    },
    {
      "cell_type": "code",
      "metadata": {
        "colab_type": "code",
        "id": "IP-Q_4PtK2pl",
        "colab": {}
      },
      "source": [
        "def my_collate1(row, update_vocab):\n",
        "    idx = []\n",
        "\n",
        "    for word in row['paragraph']:\n",
        "        stemmed = stemmer.stem(word.lower())\n",
        "\n",
        "        if update_vocab and word_to_idx[stemmed] == 0:\n",
        "            word_to_idx[stemmed] = len(word_to_idx) + 1\n",
        "            \n",
        "        idx.append(word_to_idx[stemmed])\n",
        "    \n",
        "    # max_p_len[0] = max(max_p_len[0], len(idx))\n",
        "    idx.append(separator)\n",
        "\n",
        "    for word in row['query']:\n",
        "        stemmed = stemmer.stem(word.lower())\n",
        "\n",
        "        if update_vocab and word_to_idx[stemmed] == 0:\n",
        "            word_to_idx[stemmed] = len(word_to_idx) + 1\n",
        "        \n",
        "        idx.append(word_to_idx[stemmed])\n",
        "\n",
        "    return torch.tensor(idx)"
      ],
      "execution_count": 0,
      "outputs": []
    },
    {
      "cell_type": "code",
      "metadata": {
        "colab_type": "code",
        "id": "rPgIjg8mxdMe",
        "colab": {}
      },
      "source": [
        "def my_collate2(row):\n",
        "    pos = []\n",
        "    idx = 0\n",
        "\n",
        "    for word in row['paragraph']:\n",
        "        cur_l = len(word)\n",
        "        pos.append((idx, cur_l))\n",
        "        idx += cur_l\n",
        "\n",
        "    return pos"
      ],
      "execution_count": 0,
      "outputs": []
    },
    {
      "cell_type": "code",
      "metadata": {
        "colab_type": "code",
        "id": "tKKVAQeOxdMl",
        "colab": {}
      },
      "source": [
        "def pad_dataset(dataset, update_vocab):\n",
        "    num_dataset = [my_collate1(item, update_vocab) for item in tqdm(dataset)]\n",
        "    return pad_sequence(num_dataset, batch_first=True, padding_value=pad_value)"
      ],
      "execution_count": 0,
      "outputs": []
    },
    {
      "cell_type": "code",
      "metadata": {
        "colab_type": "code",
        "id": "X5VmPiTnKvYM",
        "colab": {}
      },
      "source": [
        "def pos_dataset(dataset):\n",
        "    return [my_collate2(item) for item in tqdm(dataset)]"
      ],
      "execution_count": 0,
      "outputs": []
    },
    {
      "cell_type": "code",
      "metadata": {
        "colab_type": "code",
        "id": "8yT-kS5NxdMq",
        "outputId": "b43090a7-9e01-43f1-e429-abe8ee6de8eb",
        "colab": {
          "base_uri": "https://localhost:8080/",
          "height": 67,
          "referenced_widgets": [
            "8d446198a8b5437f95b1833e5d73b0c3",
            "5d4df83a64ae4eda94a4c8b5bf5cccd5",
            "38661bf0224e4101b51baaddc8346ec9",
            "d4fc95f2e4234895b7e9e68fe3835f73",
            "b31d824c93094ba29fe17cbadf1e0791",
            "80cc3cf70de44f268ba671140dda1f0f",
            "11c6a5bea74e4f65b48da313f66bce35",
            "b3dc3940e2f34581a42700adb82051b6"
          ]
        }
      },
      "source": [
        "# dataset_padded = pad_dataset(dataset[:5000], True)\n",
        "dataset_padded = pad_dataset(dataset, True)"
      ],
      "execution_count": 88,
      "outputs": [
        {
          "output_type": "display_data",
          "data": {
            "application/vnd.jupyter.widget-view+json": {
              "model_id": "8d446198a8b5437f95b1833e5d73b0c3",
              "version_minor": 0,
              "version_major": 2
            },
            "text/plain": [
              "HBox(children=(IntProgress(value=0, max=50297), HTML(value='')))"
            ]
          },
          "metadata": {
            "tags": []
          }
        },
        {
          "output_type": "stream",
          "text": [
            "\n"
          ],
          "name": "stdout"
        }
      ]
    },
    {
      "cell_type": "code",
      "metadata": {
        "id": "Zd4oZk7nd2tL",
        "colab_type": "code",
        "outputId": "6223de04-a643-49cd-fc5d-d7d49a026542",
        "colab": {
          "base_uri": "https://localhost:8080/",
          "height": 35
        }
      },
      "source": [
        "print(len(word_to_idx))"
      ],
      "execution_count": 89,
      "outputs": [
        {
          "output_type": "stream",
          "text": [
            "52199\n"
          ],
          "name": "stdout"
        }
      ]
    },
    {
      "cell_type": "code",
      "metadata": {
        "colab_type": "code",
        "id": "5gZSvE6ixdMv",
        "outputId": "a2014316-c8f9-4514-e28d-e8fbb8262402",
        "colab": {
          "base_uri": "https://localhost:8080/",
          "height": 67,
          "referenced_widgets": [
            "694ad59783104b9994b3beb9e0638577",
            "ce04a8c6b0c4408280280c14ae9e74e1",
            "ad6820951a354285973163f17888feb6",
            "38df5fd871b1456ea384c74255516f42",
            "077247bd0dd542ee8103c96eaf2dfb3d",
            "8c5305126e73411d9dc9d3d945a53bf8",
            "2d514940ea36444fbbd068473d81fd6b",
            "0b676bb797a4484caf3ce59145b31115"
          ]
        }
      },
      "source": [
        "# dataset_pos = pos_dataset(dataset[:5000])\n",
        "dataset_pos = pos_dataset(dataset)"
      ],
      "execution_count": 90,
      "outputs": [
        {
          "output_type": "display_data",
          "data": {
            "application/vnd.jupyter.widget-view+json": {
              "model_id": "694ad59783104b9994b3beb9e0638577",
              "version_minor": 0,
              "version_major": 2
            },
            "text/plain": [
              "HBox(children=(IntProgress(value=0, max=50297), HTML(value='')))"
            ]
          },
          "metadata": {
            "tags": []
          }
        },
        {
          "output_type": "stream",
          "text": [
            "\n"
          ],
          "name": "stdout"
        }
      ]
    },
    {
      "cell_type": "code",
      "metadata": {
        "colab_type": "code",
        "id": "iJdrIaH3xdM2",
        "colab": {}
      },
      "source": [
        "def join_dataset(dataset_padded, dataset_pos, dataset):\n",
        "    dataset_joined = []\n",
        "\n",
        "    for sent, pos, row in tqdm(zip(dataset_padded, dataset_pos, dataset)):\n",
        "        ans_start, ans_len = row['answer']\n",
        "        y = np.array([0, 0])\n",
        "\n",
        "        for pos_i in range(len(pos)):\n",
        "            if pos[pos_i][0] == ans_start:\n",
        "                y[0] = pos_i\n",
        "            if pos[pos_i][0] == ans_start + ans_len:\n",
        "                y[1] = pos_i - 1\n",
        "            \n",
        "        dataset_joined.append(np.append(sent.numpy(), y))\n",
        "\n",
        "    return dataset_joined"
      ],
      "execution_count": 0,
      "outputs": []
    },
    {
      "cell_type": "code",
      "metadata": {
        "colab_type": "code",
        "id": "8HOBgF9yxdM8",
        "outputId": "0ab354d4-ea44-4dcd-903b-0a2d482bf94a",
        "colab": {
          "base_uri": "https://localhost:8080/",
          "height": 67,
          "referenced_widgets": [
            "acf131553d604e1fa5cd6a95a2a5bf36",
            "51676302787e43f79b3d84ab92a81682",
            "da33dc905fa24e2c9bd3326795cce4a0",
            "95807d4feaa04a2dbac10d047047439c",
            "4639de9516074a8b94e80ed85cf7bb60",
            "8eaafe28b01e4efa9cb0bdd854858f4f",
            "a7cf3822cbbc431c91fce9b9cb247b53",
            "8410c880a8c34099a1f51a0075d26790"
          ]
        }
      },
      "source": [
        "dataset_joined = join_dataset(dataset_padded, dataset_pos, dataset)\n",
        "# print(dataset_joined.shape)"
      ],
      "execution_count": 92,
      "outputs": [
        {
          "output_type": "display_data",
          "data": {
            "application/vnd.jupyter.widget-view+json": {
              "model_id": "acf131553d604e1fa5cd6a95a2a5bf36",
              "version_minor": 0,
              "version_major": 2
            },
            "text/plain": [
              "HBox(children=(IntProgress(value=1, bar_style='info', max=1), HTML(value='')))"
            ]
          },
          "metadata": {
            "tags": []
          }
        },
        {
          "output_type": "stream",
          "text": [
            "\n"
          ],
          "name": "stdout"
        }
      ]
    },
    {
      "cell_type": "code",
      "metadata": {
        "colab_type": "code",
        "id": "RBV-OUxTxdNI",
        "colab": {}
      },
      "source": [
        "train, val = train_test_split(dataset_joined, test_size=0.2, random_state=42)"
      ],
      "execution_count": 0,
      "outputs": []
    },
    {
      "cell_type": "code",
      "metadata": {
        "id": "TCXoBq9ym64V",
        "colab_type": "code",
        "outputId": "3be84780-8a88-4438-ab4c-74ecd2d5bc62",
        "colab": {
          "base_uri": "https://localhost:8080/",
          "height": 35
        }
      },
      "source": [
        "print(train[0])"
      ],
      "execution_count": 94,
      "outputs": [
        {
          "output_type": "stream",
          "text": [
            "[   10     3  1991 ... 60001    24    30]\n"
          ],
          "name": "stdout"
        }
      ]
    },
    {
      "cell_type": "code",
      "metadata": {
        "colab_type": "code",
        "id": "ZAssvCKbxdNM",
        "colab": {}
      },
      "source": [
        "class MyLSTM(nn.Module):\n",
        "    def __init__(self, embedding_dim, hidden_dim, num_layers, bidirectional, vocab_size, tagset_size):\n",
        "        super(MyLSTM, self).__init__()\n",
        "        self.word_embeddings = nn.Embedding(vocab_size, embedding_dim)\n",
        "        self.lstm = nn.LSTM(embedding_dim, hidden_dim,\n",
        "                            num_layers=num_layers, bidirectional=bidirectional, batch_first=True)\n",
        "        # self.fc1 = nn.Linear(hidden_dim, hidden_dim)\n",
        "        self.fc2 = nn.Linear(hidden_dim * 2 if bidirectional else hidden_dim, tagset_size)\n",
        "        self.dropout = nn.Dropout(0.5)\n",
        "    \n",
        "    def forward(self, x):\n",
        "        x = self.word_embeddings(x)\n",
        "        x, _ = self.lstm(x)\n",
        "        x = self.dropout(x)\n",
        "        x = self.fc2(x)\n",
        "        x = torch.transpose(x, 1, 2)\n",
        "        x = F.log_softmax(x, dim=2)\n",
        "        \n",
        "        return x"
      ],
      "execution_count": 0,
      "outputs": []
    },
    {
      "cell_type": "code",
      "metadata": {
        "colab_type": "code",
        "id": "6xw73WgmxdNT",
        "colab": {}
      },
      "source": [
        "def fit(model, train, val, optimizer, loss_function, epoch_cnt, batch_size):\n",
        "    train_loader = torch.utils.data.DataLoader(train, batch_size=batch_size, shuffle=True)\n",
        "    val_loader = torch.utils.data.DataLoader(val, batch_size=batch_size)\n",
        "    train_loss_values = []\n",
        "    val_loss_values = []\n",
        "    mse = nn.MSELoss()\n",
        "            \n",
        "    for epoch in tnrange(epoch_cnt, desc='Epoch'):\n",
        "        for batch_data in train_loader:\n",
        "            x, y = batch_data[:, :-2].to(device), batch_data[:, -2:].to(device)\n",
        "            optimizer.zero_grad()\n",
        "            output = model(x.long())\n",
        "            y1, y2 = y[:, 0].reshape(-1), y[:, 1].reshape(-1)\n",
        "            loss1 = loss_function(output[:, 0], y1.long())\n",
        "            loss2 = loss_function(output[:, 1], y2.long())\n",
        "\n",
        "            # _, ansx = output.max(dim=2)\n",
        "            # loss3 = mse((ansx[:, 1] - ansx[:, 0]).float(), (y2 - y1).float())\n",
        "\n",
        "            # loss = loss1 * 0.4995 + loss2 * 0.4995 + loss3 * 0.001\n",
        "            loss = loss1 * 0.5 + loss2 * 0.5\n",
        "            loss.backward()\n",
        "\n",
        "            train_loss_values.append(loss.item())\n",
        "            nn.utils.clip_grad_norm_(model.parameters(), 5)\n",
        "            optimizer.step()\n",
        "\n",
        "            wandb.log({\n",
        "                \"Train Loss\": loss.item()})\n",
        "\n",
        "        with torch.no_grad():\n",
        "            loss_values = []\n",
        "            for batch_data in val_loader:\n",
        "                x, y = batch_data[:, :-2].to(device), batch_data[:, -2:].to(device)\n",
        "                output = model(x.long())\n",
        "                y1, y2 = y[:, 0].reshape(-1), y[:, 1].reshape(-1)\n",
        "                loss1 = loss_function(output[:, 0], y1.long()).item()\n",
        "                loss2 = loss_function(output[:, 1], y2.long()).item()\n",
        "\n",
        "                # _, ansx = output.max(dim=2)\n",
        "                # loss3 = mse((ansx[:, 1] - ansx[:, 0]).float(), (y2 - y1).float()).item()\n",
        "\n",
        "                # loss = loss1 * 0.4995 + loss2 * 0.4995 + loss3 * 0.001\n",
        "                loss = loss1 * 0.5 + loss2 * 0.5\n",
        "\n",
        "                loss_values.append(loss)\n",
        "            val_loss_values.append(np.mean(np.array(loss_values)))\n",
        "\n",
        "            wandb.log({\n",
        "                \"Validation Loss\": val_loss_values[-1]})\n",
        "\n",
        "    return train_loss_values, val_loss_values \n"
      ],
      "execution_count": 0,
      "outputs": []
    },
    {
      "cell_type": "code",
      "metadata": {
        "colab_type": "code",
        "id": "dXXYUI-mxdNa",
        "colab": {}
      },
      "source": [
        "embedding_dim = 64\n",
        "hidden_dim = 64\n",
        "num_layers = 4\n",
        "bidirectional = True\n",
        "vocab_size = max(pad_value, len(word_to_idx)) + 1\n",
        "tagset_size = 2\n",
        "epoch_cnt = 5\n",
        "batch_size = 128"
      ],
      "execution_count": 0,
      "outputs": []
    },
    {
      "cell_type": "code",
      "metadata": {
        "colab_type": "code",
        "id": "7TidGCKaxdNd",
        "colab": {}
      },
      "source": [
        "# device = torch.device('cuda' if torch.cuda.is_available() else 'cpu')\n",
        "# device = torch.device('cpu')\n",
        "# wandb.init(entity=\"vadim-farutin\", project=\"HSE-NLP-task3\")\n",
        "# wandb.watch_called = False # Re-run the model without restarting the runtime, unnecessary after our next release\n",
        "model = MyLSTM(embedding_dim, hidden_dim, num_layers, bidirectional, vocab_size, tagset_size)\n",
        "model = model.float()\n",
        "model = model.to(device)"
      ],
      "execution_count": 0,
      "outputs": []
    },
    {
      "cell_type": "code",
      "metadata": {
        "colab_type": "code",
        "id": "h1rI1_MYxdNi",
        "colab": {}
      },
      "source": [
        "loss_function = nn.NLLLoss()\n",
        "optimizer = optim.Adam(model.parameters(), lr=1e-3)"
      ],
      "execution_count": 0,
      "outputs": []
    },
    {
      "cell_type": "code",
      "metadata": {
        "colab_type": "code",
        "id": "ke_exZJWxdNs",
        "outputId": "5d97c853-687f-4b68-c9f3-ea9a5d5779ab",
        "colab": {
          "base_uri": "https://localhost:8080/",
          "height": 101,
          "referenced_widgets": [
            "ce2bf82b21cf45a482e3f569c4394bf0",
            "0a45a7d17d9643b7a16c122404ac33a0",
            "b20532b95d1540ceba7e8012b48dac23",
            "04a327b767354036b53ada633dc92fc9",
            "6667faaae8394b2998620aff5aee584a",
            "7f88694d7a7a4dbda36d2fac56242e4f",
            "f0615f25468b4ebb9b67022b49e9d593",
            "2e44b051c4ed4d80845adc1d7ce5ed55"
          ]
        }
      },
      "source": [
        "wandb.init(entity=\"vadim-farutin\", project=\"HSE-NLP-task4\")\n",
        "wandb.watch_called = False # Re-run the model without restarting the runtime, unnecessary after our next release\n",
        "# wandb.watch(model, log=\"all\")\n",
        "\n",
        "train_loss_values, val_loss_values =\\\n",
        "    fit(model, train, val, optimizer, loss_function, epoch_cnt, batch_size)"
      ],
      "execution_count": 124,
      "outputs": [
        {
          "output_type": "display_data",
          "data": {
            "text/html": [
              "\n",
              "                Logging results to <a href=\"https://wandb.com\" target=\"_blank\">Weights & Biases</a> <a href=\"https://docs.wandb.com/integrations/jupyter.html\" target=\"_blank\">(Documentation)</a>.<br/>\n",
              "                Project page: <a href=\"https://app.wandb.ai/vadim-farutin/HSE-NLP-task4\" target=\"_blank\">https://app.wandb.ai/vadim-farutin/HSE-NLP-task4</a><br/>\n",
              "                Run page: <a href=\"https://app.wandb.ai/vadim-farutin/HSE-NLP-task4/runs/ce8u17i5\" target=\"_blank\">https://app.wandb.ai/vadim-farutin/HSE-NLP-task4/runs/ce8u17i5</a><br/>\n",
              "            "
            ],
            "text/plain": [
              "<IPython.core.display.HTML object>"
            ]
          },
          "metadata": {
            "tags": []
          }
        },
        {
          "output_type": "display_data",
          "data": {
            "application/vnd.jupyter.widget-view+json": {
              "model_id": "ce2bf82b21cf45a482e3f569c4394bf0",
              "version_minor": 0,
              "version_major": 2
            },
            "text/plain": [
              "HBox(children=(IntProgress(value=0, description='Epoch', max=5, style=ProgressStyle(description_width='initial…"
            ]
          },
          "metadata": {
            "tags": []
          }
        }
      ]
    },
    {
      "cell_type": "code",
      "metadata": {
        "id": "g1jbTZkr3mx9",
        "colab_type": "code",
        "colab": {
          "base_uri": "https://localhost:8080/",
          "height": 49,
          "referenced_widgets": [
            "cdd04f8a773940f7a1b13c4e8de717a5",
            "ecb9610caf6541d2b05947abe260acb2",
            "a83c251685304ed7892630eb73bd3624",
            "ad1dcd8a21634fdf91a1586c5c797f98",
            "6ccc339e5cda4c369c9d6f51c831c090",
            "fc387b6812764c06bb6b465a9771acbd",
            "fb846aaeb1fb4010a5acdaa1358ae72e",
            "848b471857c34079b412de595616a5a5"
          ]
        },
        "outputId": "cebdacd2-0f43-48bd-bb4e-e9dbb52c0f39"
      },
      "source": [
        "train_loss_values, val_loss_values =\\\n",
        "    fit(model, train, val, optimizer, loss_function, 3, batch_size)"
      ],
      "execution_count": 126,
      "outputs": [
        {
          "output_type": "display_data",
          "data": {
            "application/vnd.jupyter.widget-view+json": {
              "model_id": "cdd04f8a773940f7a1b13c4e8de717a5",
              "version_minor": 0,
              "version_major": 2
            },
            "text/plain": [
              "HBox(children=(IntProgress(value=0, description='Epoch', max=3, style=ProgressStyle(description_width='initial…"
            ]
          },
          "metadata": {
            "tags": []
          }
        }
      ]
    },
    {
      "cell_type": "code",
      "metadata": {
        "colab_type": "code",
        "id": "vsH8OQi0xdNy",
        "colab": {}
      },
      "source": [
        "def plot_loss_values(train_loss_values, val_loss_values):\n",
        "    plt.plot(np.arange(len(train_loss_values)), train_loss_values, color='blue', label='train')\n",
        "    plt.plot(np.arange(0, len(train_loss_values), len(train_loss_values) / epoch_cnt), val_loss_values, color='red', label='validation')\n",
        "    plt.legend()\n",
        "    plt.title(\"Loss values\")\n",
        "    plt.xlabel(\"iteration\")\n",
        "    plt.ylabel(\"loss\")\n",
        "    plt.show()"
      ],
      "execution_count": 0,
      "outputs": []
    },
    {
      "cell_type": "code",
      "metadata": {
        "colab_type": "code",
        "id": "xcnlpTXKxdN3",
        "outputId": "73050754-3d06-4dda-e637-4d36a5b94c50",
        "scrolled": true,
        "colab": {
          "base_uri": "https://localhost:8080/",
          "height": 295
        }
      },
      "source": [
        "plot_loss_values(train_loss_values, val_loss_values)"
      ],
      "execution_count": 108,
      "outputs": [
        {
          "output_type": "display_data",
          "data": {
            "image/png": "[encoded data removed]",
            "text/plain": [
              "<Figure size 432x288 with 1 Axes>"
            ]
          },
          "metadata": {
            "tags": []
          }
        }
      ]
    },
    {
      "cell_type": "code",
      "metadata": {
        "id": "G6KiKhogbYVI",
        "colab_type": "code",
        "colab": {}
      },
      "source": [
        "stop_words = set(stopwords.words('russian'))"
      ],
      "execution_count": 0,
      "outputs": []
    },
    {
      "cell_type": "code",
      "metadata": {
        "id": "y510HzjcbZLc",
        "colab_type": "code",
        "colab": {}
      },
      "source": [
        "def find_closest(paragraph, query):\n",
        "    sents = [token.text for token in list(sentenize(paragraph))] + [query]\n",
        "\n",
        "    stemmed = []\n",
        "\n",
        "    for sent in sents:\n",
        "        sent_stemmed = []\n",
        "\n",
        "        for word in tokenize(sent.translate(str.maketrans('', '', string.punctuation))):\n",
        "            if word.lower() not in stop_words:\n",
        "                sent_stemmed.append(stemmer.stem(word.lower()))\n",
        "\n",
        "        sent_stemmed = ' '.join(sent_stemmed)\n",
        "        stemmed.append(sent_stemmed)\n",
        "\n",
        "    tf_idf = TfidfVectorizer().fit_transform(stemmed)\n",
        "\n",
        "    min_cos = 1\n",
        "    min_idx = None\n",
        "\n",
        "    for i in range(len(sents) - 1):\n",
        "        if min_cos >= cosine(tf_idf[i].todense(), tf_idf[-1].todense()):\n",
        "            min_cos = cosine(tf_idf[i].todense(), tf_idf[-1].todense())\n",
        "            min_idx = i\n",
        "    \n",
        "    return sents[min_idx]"
      ],
      "execution_count": 0,
      "outputs": []
    },
    {
      "cell_type": "code",
      "metadata": {
        "colab_type": "code",
        "id": "JuXQFeCexdLM",
        "colab": {}
      },
      "source": [
        "def read_input():\n",
        "    input_filename = \"./dataset_281937_1.txt\"\n",
        "    X = []\n",
        "\n",
        "    with open(input_filename, encoding='utf-8') as input_file:\n",
        "        reader = csv.reader(input_file, delimiter='\\t')\n",
        "        next(reader)\n",
        "        i = 2\n",
        "        for row in reader:\n",
        "            if (len(row) < 4):\n",
        "                print(i)\n",
        "            i += 1\n",
        "            query = row[3]\n",
        "            if query[-1] == '?':\n",
        "                query = query[:-1]\n",
        "\n",
        "            sent = find_closest(row[2], query)\n",
        "\n",
        "            X.append({'paragraph': re.split('(\\W)', sent),\n",
        "                      'query': re.split('(\\W)', query),\n",
        "                      'query_id': row[1]})\n",
        "\n",
        "    return X\n"
      ],
      "execution_count": 0,
      "outputs": []
    },
    {
      "cell_type": "code",
      "metadata": {
        "colab_type": "code",
        "id": "chMdvjzjxdN9",
        "outputId": "16f25297-dc8f-466b-b530-86b1d4cab46d",
        "colab": {
          "base_uri": "https://localhost:8080/",
          "height": 154,
          "referenced_widgets": [
            "1b2a5dc34d634a7bb093878e81e4af8a",
            "b627ae6b46d641ccb80ca455a8d6cf7c",
            "20d1fe9ac1684982b37c45fd9931f7f3",
            "eef0193c7805469fa9c1fcf5748e6854",
            "69c75bc32ff7417ea5f71ab6180874ed",
            "4c8b27a3e14c416dbbb25141c8a4afa7",
            "ddb164e9b07e4fc0a272dd37df25eedd",
            "ec7f14f2f44b4e8eba62388d611b5143",
            "09e5655501ae4735892a08f48458f627",
            "8c9cbbe260de427cb46dc0d024ddfa3f",
            "3cd41cfcfcb44f89883b5614426e9996",
            "856ce9afa177437097cace6496d5869e",
            "95af6e621ffe4a0caa4790fc2b8c143a",
            "c2e869bca73b463f944a9ab91a7fa048",
            "44f568296a904f31b9df56b32446c42e",
            "793fc1e01551451db195e2be156668bd"
          ]
        }
      },
      "source": [
        "test = read_input()\n",
        "test_padded = pad_dataset(test, False)\n",
        "test_pos = pos_dataset(test)"
      ],
      "execution_count": 145,
      "outputs": [
        {
          "output_type": "stream",
          "text": [
            "/usr/local/lib/python3.6/dist-packages/scipy/spatial/distance.py:720: RuntimeWarning: invalid value encountered in double_scalars\n",
            "  dist = 1.0 - uv / np.sqrt(uu * vv)\n",
            "/usr/local/lib/python3.6/dist-packages/scipy/spatial/distance.py:720: RuntimeWarning: invalid value encountered in double_scalars\n",
            "  dist = 1.0 - uv / np.sqrt(uu * vv)\n"
          ],
          "name": "stderr"
        },
        {
          "output_type": "display_data",
          "data": {
            "application/vnd.jupyter.widget-view+json": {
              "model_id": "1b2a5dc34d634a7bb093878e81e4af8a",
              "version_minor": 0,
              "version_major": 2
            },
            "text/plain": [
              "HBox(children=(IntProgress(value=0, max=1000), HTML(value='')))"
            ]
          },
          "metadata": {
            "tags": []
          }
        },
        {
          "output_type": "display_data",
          "data": {
            "application/vnd.jupyter.widget-view+json": {
              "model_id": "09e5655501ae4735892a08f48458f627",
              "version_minor": 0,
              "version_major": 2
            },
            "text/plain": [
              "HBox(children=(IntProgress(value=0, max=1000), HTML(value='')))"
            ]
          },
          "metadata": {
            "tags": []
          }
        }
      ]
    },
    {
      "cell_type": "code",
      "metadata": {
        "colab_type": "code",
        "id": "wYunzdES1c4t",
        "outputId": "21e0ac12-f0e2-4d1e-e650-affe6a0f5864",
        "colab": {
          "base_uri": "https://localhost:8080/",
          "height": 35
        }
      },
      "source": [
        "print(test_padded.shape)"
      ],
      "execution_count": 146,
      "outputs": [
        {
          "output_type": "stream",
          "text": [
            "torch.Size([1000, 381])\n"
          ],
          "name": "stdout"
        }
      ]
    },
    {
      "cell_type": "code",
      "metadata": {
        "colab_type": "code",
        "id": "cJ3_rkDCxdOF",
        "colab": {}
      },
      "source": [
        "with torch.no_grad():\n",
        "    test_loader = torch.utils.data.DataLoader(test_padded, batch_size=batch_size)\n",
        "    ans = None\n",
        "    \n",
        "    for batch_data in test_loader:\n",
        "        x = batch_data.to(device)\n",
        "        output = model(x.long())\n",
        "        _, ansx = output.max(dim=2)\n",
        "        ansx = ansx.cpu().numpy()\n",
        "        if ans is None:\n",
        "            ans = ansx\n",
        "        else:\n",
        "            ans = np.append(ans, ansx, axis=0)"
      ],
      "execution_count": 0,
      "outputs": []
    },
    {
      "cell_type": "code",
      "metadata": {
        "id": "McRf6SmhsTnM",
        "colab_type": "code",
        "outputId": "d44bcce6-034b-4317-e00d-d7f18e4d94ac",
        "colab": {
          "base_uri": "https://localhost:8080/",
          "height": 35
        }
      },
      "source": [
        "print(ans[0])"
      ],
      "execution_count": 148,
      "outputs": [
        {
          "output_type": "stream",
          "text": [
            "[0 0]\n"
          ],
          "name": "stdout"
        }
      ]
    },
    {
      "cell_type": "code",
      "metadata": {
        "colab_type": "code",
        "id": "B29hzFLOxdOJ",
        "colab": {}
      },
      "source": [
        "output_filename = \"./output.txt\"\n",
        "\n",
        "with open(output_filename, \"w\", encoding=\"utf-8\") as output_file:\n",
        "    for tags, row in zip(ans, test):\n",
        "        start, end = tags\n",
        "        if start >= len(row['paragraph']):\n",
        "            start = end\n",
        "        if start > end:\n",
        "            end = len(row['paragraph']) - 1\n",
        "        if end >= len(row['paragraph']):\n",
        "            end = len(row['paragraph']) - 1\n",
        "        output_file.write(\"%s\\t%s\\n\" % (row['query_id'], \"\".join(row['paragraph'][start:end + 1])))\n"
      ],
      "execution_count": 0,
      "outputs": []
    },
    {
      "cell_type": "code",
      "metadata": {
        "colab_type": "code",
        "id": "NjpxYr9Mmogc",
        "colab": {}
      },
      "source": [
        ""
      ],
      "execution_count": 0,
      "outputs": []
    }
  ]
}