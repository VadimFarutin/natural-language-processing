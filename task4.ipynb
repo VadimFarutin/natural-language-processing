{
 "cells": [
  {
   "cell_type": "code",
   "execution_count": 0,
   "metadata": {
    "colab": {},
    "colab_type": "code",
    "id": "AfYk_JjWsim4"
   },
   "outputs": [],
   "source": [
    "!pip install wandb -q"
   ]
  },
  {
   "cell_type": "code",
   "execution_count": 1,
   "metadata": {
    "colab": {
     "base_uri": "https://localhost:8080/",
     "height": 128
    },
    "colab_type": "code",
    "id": "wA6rdH6heAF1",
    "outputId": "cec678ed-b195-4f87-85b5-c94bf39384dd"
   },
   "outputs": [
    {
     "name": "stdout",
     "output_type": "stream",
     "text": [
      "Go to this URL in a browser: https://accounts.google.com/o/oauth2/auth?client_id=947318989803-6bn6qk8qdgf4n4g3pfee6491hc0brc4i.apps.googleusercontent.com&redirect_uri=urn%3aietf%3awg%3aoauth%3a2.0%3aoob&response_type=code&scope=email%20https%3a%2f%2fwww.googleapis.com%2fauth%2fdocs.test%20https%3a%2f%2fwww.googleapis.com%2fauth%2fdrive%20https%3a%2f%2fwww.googleapis.com%2fauth%2fdrive.photos.readonly%20https%3a%2f%2fwww.googleapis.com%2fauth%2fpeopleapi.readonly\n",
      "\n",
      "Enter your authorization code:\n",
      "··········\n",
      "Mounted at /content/drive\n"
     ]
    }
   ],
   "source": [
    "from google.colab import drive\n",
    "drive.mount('/content/drive')"
   ]
  },
  {
   "cell_type": "code",
   "execution_count": 0,
   "metadata": {
    "colab": {},
    "colab_type": "code",
    "id": "Mx6pvu3gspLN"
   },
   "outputs": [],
   "source": [
    "import wandb"
   ]
  },
  {
   "cell_type": "code",
   "execution_count": 31,
   "metadata": {
    "colab": {
     "base_uri": "https://localhost:8080/",
     "height": 181
    },
    "colab_type": "code",
    "id": "QiXYsi05stNH",
    "outputId": "b36683ef-fd35-40fc-b5ca-9a0cdab6f085"
   },
   "outputs": [
    {
     "name": "stdout",
     "output_type": "stream",
     "text": [
      "\u001b[34m\u001b[1mwandb\u001b[0m: (1) Create a W&B account\n",
      "\u001b[34m\u001b[1mwandb\u001b[0m: (2) Use an existing W&B account\n",
      "\u001b[34m\u001b[1mwandb\u001b[0m: (3) Don't visualize my results\n",
      "\u001b[34m\u001b[1mwandb\u001b[0m: Enter your choice: 2\n",
      "\u001b[34m\u001b[1mwandb\u001b[0m: You chose 'Use an existing W&B account'\n",
      "\u001b[34m\u001b[1mwandb\u001b[0m: You can find your API key in your browser here: https://app.wandb.ai/authorize\n",
      "\u001b[34m\u001b[1mwandb\u001b[0m: Paste an API key from your profile and hit enter: 8c292ca69e334e8a562d4a4c6570fdd3ad29c825\n",
      "\u001b[34m\u001b[1mwandb\u001b[0m: Appending key for api.wandb.ai to your netrc file: /root/.netrc\n",
      "\u001b[32mSuccessfully logged in to Weights & Biases!\u001b[0m\n"
     ]
    }
   ],
   "source": [
    "!wandb login"
   ]
  },
  {
   "cell_type": "code",
   "execution_count": 1,
   "metadata": {
    "colab": {},
    "colab_type": "code",
    "id": "-GdLTPv3xdKi"
   },
   "outputs": [],
   "source": [
    "import re\n",
    "import csv\n",
    "import string\n",
    "from collections import defaultdict\n",
    "from tqdm import tnrange, tqdm_notebook\n",
    "from tqdm.auto import tqdm\n",
    "from sklearn.model_selection import train_test_split\n",
    "import numpy as np\n",
    "from matplotlib import pyplot as plt\n",
    "\n",
    "import torch\n",
    "import torch.nn as nn\n",
    "import torch.nn.functional as F\n",
    "import torch.optim as optim\n",
    "from torch.utils.data.dataset import Dataset\n",
    "from torch.nn.utils.rnn import pad_sequence\n",
    "\n",
    "# from pymystem3 import Mystem\n",
    "from nltk.stem.snowball import SnowballStemmer"
   ]
  },
  {
   "cell_type": "code",
   "execution_count": 2,
   "metadata": {
    "colab": {},
    "colab_type": "code",
    "id": "UnFSXUV3xdK0"
   },
   "outputs": [],
   "source": [
    "SEED = 1\n",
    "torch.manual_seed(SEED)\n",
    "np.random.seed(SEED)"
   ]
  },
  {
   "cell_type": "code",
   "execution_count": 3,
   "metadata": {
    "colab": {
     "base_uri": "https://localhost:8080/",
     "height": 35
    },
    "colab_type": "code",
    "id": "th_KCfdCxdLC",
    "outputId": "a0a7976a-e0fa-4914-952a-799f8ac7a42e"
   },
   "outputs": [
    {
     "name": "stdout",
     "output_type": "stream",
     "text": [
      "cuda\n"
     ]
    }
   ],
   "source": [
    "device = torch.device('cuda' if torch.cuda.is_available() else 'cpu')\n",
    "print(device)"
   ]
  },
  {
   "cell_type": "code",
   "execution_count": 4,
   "metadata": {
    "colab": {},
    "colab_type": "code",
    "id": "z1q5gRXqxdLV"
   },
   "outputs": [],
   "source": [
    "def read_dataset():\n",
    "    input_filename = \"data/train_qa.csv\"\n",
    "    dataset = []\n",
    "    missed = []\n",
    "\n",
    "    with open(input_filename, encoding='utf-8') as input_file:\n",
    "        reader = csv.reader(input_file)\n",
    "        next(reader)\n",
    "        for row in reader:\n",
    "            query = row[3]\n",
    "            if query[-1] == '?':\n",
    "                query = query[:-1]\n",
    "            answer = row[4]\n",
    "            if answer[-3:] == \"...\":\n",
    "                answer = answer[:-3]\n",
    "            if answer[:3] == \"...\":\n",
    "                answer = answer[3:]\n",
    "            if answer[0] == ' ':\n",
    "                answer = answer[1:]\n",
    "            if answer[0] in string.punctuation:\n",
    "                answer = answer[1:]\n",
    "            if answer[-1] in string.punctuation:\n",
    "                answer = answer[:-1]\n",
    "            ans_start = row[2].lower().find(answer.lower())\n",
    "            ans_len = len(answer)\n",
    "            if ans_start != -1:\n",
    "                dataset.append({'paragraph': re.split('(\\W)', row[2]),\n",
    "                                'query': re.split('(\\W)', query),\n",
    "                                'answer': (ans_start, ans_len)})\n",
    "            else:\n",
    "                missed.append(answer)\n",
    "                                \n",
    "    return dataset, missed\n"
   ]
  },
  {
   "cell_type": "code",
   "execution_count": 5,
   "metadata": {
    "colab": {},
    "colab_type": "code",
    "id": "Y1Ni4f8NxdLt"
   },
   "outputs": [],
   "source": [
    "dataset, missed = read_dataset()"
   ]
  },
  {
   "cell_type": "code",
   "execution_count": 6,
   "metadata": {
    "colab": {
     "base_uri": "https://localhost:8080/",
     "height": 35
    },
    "colab_type": "code",
    "id": "uuWkev9L00yv",
    "outputId": "0b8ef5b5-ab74-45d2-d58e-5198eaf7af3e"
   },
   "outputs": [
    {
     "name": "stdout",
     "output_type": "stream",
     "text": [
      "50363\n"
     ]
    }
   ],
   "source": [
    "print(len(dataset))"
   ]
  },
  {
   "cell_type": "code",
   "execution_count": 7,
   "metadata": {
    "colab": {
     "base_uri": "https://localhost:8080/",
     "height": 55
    },
    "colab_type": "code",
    "id": "LbOdiSCuxdL1",
    "outputId": "995c0fd6-1221-4b68-973a-966c8b644a40"
   },
   "outputs": [
    {
     "name": "stdout",
     "output_type": "stream",
     "text": [
      "{'paragraph': ['Первые', ' ', 'упоминания', ' ', 'о', ' ', 'строении', ' ', 'человеческого', ' ', 'тела', ' ', 'встречаются', ' ', 'в', ' ', 'Древнем', ' ', 'Египте', '.', '', ' ', 'В', ' ', 'XXVII', ' ', 'веке', ' ', 'до', ' ', 'н', '.', '', ' ', 'э', '.', '', ' ', 'египетский', ' ', 'врач', ' ', 'Имхотеп', ' ', 'описал', ' ', 'некоторые', ' ', 'органы', ' ', 'и', ' ', 'их', ' ', 'функции', ',', '', ' ', 'в', ' ', 'частности', ' ', 'головной', ' ', 'мозг', ',', '', ' ', 'деятельность', ' ', 'сердца', ',', '', ' ', 'распространение', ' ', 'крови', ' ', 'по', ' ', 'сосудам', '.', '', ' ', 'В', ' ', 'древнекитайской', ' ', 'книге', ' ', 'Нейцзин', ' ', '', '(', 'XI', '—', 'VII', ' ', 'вв', '.', '', ' ', 'до', ' ', 'н', '.', '', ' ', 'э', '.', '', ')', '', ' ', 'упоминаются', ' ', 'сердце', ',', '', ' ', 'печень', ',', '', ' ', 'лёгкие', ' ', 'и', ' ', 'другие', ' ', 'органы', ' ', 'тела', ' ', 'человека', '.', '', ' ', 'В', ' ', 'индийской', ' ', 'книге', ' ', 'Аюрведа', ' ', '', '(', '', ' ', 'Знание', ' ', 'жизни', ' ', '', ',', '', ' ', 'IX', '-', 'III', ' ', 'вв', '.', '', ' ', 'до', ' ', 'н', '.', '', ' ', 'э', '.', '', ')', '', ' ', 'содержится', ' ', 'большой', ' ', 'объём', ' ', 'анатомических', ' ', 'данных', ' ', 'о', ' ', 'мышцах', ',', '', ' ', 'нервах', ',', '', ' ', 'типах', ' ', 'телосложения', ' ', 'и', ' ', 'темперамента', ',', '', ' ', 'головном', ' ', 'и', ' ', 'спинном', ' ', 'мозге', '.', ''], 'query': ['Где', ' ', 'встречаются', ' ', 'первые', ' ', 'упоминания', ' ', 'о', ' ', 'строении', ' ', 'человеческого', ' ', 'тела'], 'answer': (60, 16)}\n"
     ]
    }
   ],
   "source": [
    "print(dataset[0])"
   ]
  },
  {
   "cell_type": "code",
   "execution_count": 8,
   "metadata": {
    "colab": {
     "base_uri": "https://localhost:8080/",
     "height": 55
    },
    "colab_type": "code",
    "id": "w8wSXcXld2r7",
    "outputId": "af77df67-3eb4-4c78-82ef-229ad7eb2c64"
   },
   "outputs": [
    {
     "name": "stdout",
     "output_type": "stream",
     "text": [
      "['Четвёртый альбом Issues (1999) группы Korn также попал на вершину Billboard 200.[118][153] За один месяц он стал трижды платиновым.[154] За первую неделю он разошёлся тиражом 573000 копий,[153] а первый сингл Falling Away from Me достиг 99 позиции в Billboard Hot 100.[155] Немногим раньше, до выхода альбома, Korn появляются в эпизоде Отличная загадка группы Korn о пиратском призраке мультсериала Южный парк, в котором состоялась премьера сингла Falling Away from Me .[156][157] В конце 1990-х и начале 2000-х различные ню-метал-группы, как, например, Korn,[158][159] Limp Bizkit[160][161] и P.O.D.,[162][163] стабильно участвуют в телепередаче Total Request Live на MTV']\n"
     ]
    }
   ],
   "source": [
    "print(missed)"
   ]
  },
  {
   "cell_type": "code",
   "execution_count": 9,
   "metadata": {
    "colab": {},
    "colab_type": "code",
    "id": "cuWXjbpn7BxL"
   },
   "outputs": [],
   "source": [
    "stemmer = SnowballStemmer(\"russian\")\n",
    "# stemmer = Mystem()"
   ]
  },
  {
   "cell_type": "code",
   "execution_count": 10,
   "metadata": {
    "colab": {},
    "colab_type": "code",
    "id": "fpm8j82GIkwm"
   },
   "outputs": [],
   "source": [
    "word_to_idx = defaultdict(lambda: 0)\n",
    "separator = 65000\n",
    "pad_value = 65001"
   ]
  },
  {
   "cell_type": "code",
   "execution_count": 11,
   "metadata": {
    "colab": {},
    "colab_type": "code",
    "id": "VtoRWOt9d2sq"
   },
   "outputs": [],
   "source": [
    "max_p_len = [0]"
   ]
  },
  {
   "cell_type": "code",
   "execution_count": 12,
   "metadata": {
    "colab": {},
    "colab_type": "code",
    "id": "IP-Q_4PtK2pl"
   },
   "outputs": [],
   "source": [
    "def my_collate1(row, update_vocab):\n",
    "    idx = []\n",
    "\n",
    "    for word in row['paragraph']:\n",
    "        stemmed = stemmer.stem(word.lower())\n",
    "\n",
    "        if update_vocab and stemmed not in word_to_idx:\n",
    "            word_to_idx[stemmed] = len(word_to_idx) + 1\n",
    "            \n",
    "        idx.append(word_to_idx[stemmed])\n",
    "    \n",
    "    # max_p_len[0] = max(max_p_len[0], len(idx))\n",
    "    idx.append(separator)\n",
    "\n",
    "    for word in row['query']:\n",
    "        stemmed = stemmer.stem(word.lower())\n",
    "\n",
    "        if update_vocab and stemmed not in word_to_idx:\n",
    "            word_to_idx[stemmed] = len(word_to_idx) + 1\n",
    "        \n",
    "        idx.append(word_to_idx[stemmed])\n",
    "\n",
    "    return torch.tensor(idx)"
   ]
  },
  {
   "cell_type": "code",
   "execution_count": 13,
   "metadata": {
    "colab": {},
    "colab_type": "code",
    "id": "rPgIjg8mxdMe"
   },
   "outputs": [],
   "source": [
    "def my_collate2(row):\n",
    "    pos = []\n",
    "    idx = 0\n",
    "\n",
    "    for word in row['paragraph']:\n",
    "        cur_l = len(word)\n",
    "        pos.append((idx, cur_l))\n",
    "        idx += cur_l\n",
    "\n",
    "    return pos"
   ]
  },
  {
   "cell_type": "code",
   "execution_count": 14,
   "metadata": {
    "colab": {},
    "colab_type": "code",
    "id": "tKKVAQeOxdMl"
   },
   "outputs": [],
   "source": [
    "def pad_dataset(dataset, update_vocab):\n",
    "    num_dataset = [my_collate1(item, update_vocab) for item in tqdm(dataset)]\n",
    "    return pad_sequence(num_dataset, batch_first=True, padding_value=pad_value)"
   ]
  },
  {
   "cell_type": "code",
   "execution_count": 15,
   "metadata": {
    "colab": {},
    "colab_type": "code",
    "id": "X5VmPiTnKvYM"
   },
   "outputs": [],
   "source": [
    "def pos_dataset(dataset):\n",
    "    return [my_collate2(item) for item in tqdm(dataset)]"
   ]
  },
  {
   "cell_type": "code",
   "execution_count": 16,
   "metadata": {
    "colab": {
     "base_uri": "https://localhost:8080/",
     "height": 49,
     "referenced_widgets": [
      "444a2a187d0e4e4fa33f2d9922d8da38",
      "9abe089fe8e14f62a2d94652da0a21d4",
      "f77dfe06431140b6b39abe392a3152fb",
      "82acac4927a94df6a5d743f32497281e",
      "a798c8edf9ba43ebbc480ea997a6d1bd",
      "3eb1a498569f4a4d81f26c5e8793009e",
      "6fba86460d604606ad46e14d43401355",
      "5154d44f890042b99e37e4081c87b998"
     ]
    },
    "colab_type": "code",
    "id": "8yT-kS5NxdMq",
    "outputId": "3ecf4788-0194-416f-b22d-2ab8fe77eb5a"
   },
   "outputs": [
    {
     "data": {
      "application/vnd.jupyter.widget-view+json": {
       "model_id": "0b195e31e6a446f3a163a0937ff7af83",
       "version_major": 2,
       "version_minor": 0
      },
      "text/plain": [
       "HBox(children=(IntProgress(value=0, max=50363), HTML(value='')))"
      ]
     },
     "metadata": {},
     "output_type": "display_data"
    },
    {
     "name": "stdout",
     "output_type": "stream",
     "text": [
      "\n"
     ]
    }
   ],
   "source": [
    "# dataset_padded = pad_dataset(dataset[:5000], True)\n",
    "dataset_padded = pad_dataset(dataset, True)"
   ]
  },
  {
   "cell_type": "code",
   "execution_count": 17,
   "metadata": {
    "colab": {
     "base_uri": "https://localhost:8080/",
     "height": 35
    },
    "colab_type": "code",
    "id": "Zd4oZk7nd2tL",
    "outputId": "a998931e-1522-4c56-8a10-5a35bec714bf"
   },
   "outputs": [
    {
     "name": "stdout",
     "output_type": "stream",
     "text": [
      "59097\n"
     ]
    }
   ],
   "source": [
    "print(len(word_to_idx))"
   ]
  },
  {
   "cell_type": "code",
   "execution_count": 18,
   "metadata": {
    "colab": {
     "base_uri": "https://localhost:8080/",
     "height": 49,
     "referenced_widgets": [
      "203b2492d64c4f5fba5058f3154cb5fc",
      "131c9d20497248289bdd53a0c0094171",
      "e7a2b070bc4a444eb9302031ab867126",
      "fa0ebc16b7db48d8b1cd133b0fb1013d",
      "107a5e949c1e4173adc7dda6271d3c40",
      "837d5edab36c469aacbce8028bc7a7df",
      "c50a7b4e097844698d1efa441e2d25f4",
      "9e2c33e27888480b8b0c6606b20259fc"
     ]
    },
    "colab_type": "code",
    "id": "5gZSvE6ixdMv",
    "outputId": "8fd5982b-7d19-42ec-afa9-0e0798e97291"
   },
   "outputs": [
    {
     "data": {
      "application/vnd.jupyter.widget-view+json": {
       "model_id": "49ae3f2de0304da89c01e74c4e307611",
       "version_major": 2,
       "version_minor": 0
      },
      "text/plain": [
       "HBox(children=(IntProgress(value=0, max=50363), HTML(value='')))"
      ]
     },
     "metadata": {},
     "output_type": "display_data"
    },
    {
     "name": "stdout",
     "output_type": "stream",
     "text": [
      "\n"
     ]
    }
   ],
   "source": [
    "# dataset_pos = pos_dataset(dataset[:5000])\n",
    "dataset_pos = pos_dataset(dataset)"
   ]
  },
  {
   "cell_type": "code",
   "execution_count": 19,
   "metadata": {
    "colab": {},
    "colab_type": "code",
    "id": "iJdrIaH3xdM2"
   },
   "outputs": [],
   "source": [
    "def join_dataset(dataset_padded, dataset_pos, dataset):\n",
    "    dataset_joined = []\n",
    "\n",
    "    for sent, pos, row in tqdm(zip(dataset_padded, dataset_pos, dataset)):\n",
    "        ans_start, ans_len = row['answer']\n",
    "        y = np.array([0, 0])\n",
    "\n",
    "        for pos_i in range(len(pos)):\n",
    "            if pos[pos_i][0] == ans_start:\n",
    "                y[0] = pos_i\n",
    "            if pos[pos_i][0] == ans_start + ans_len:\n",
    "                y[1] = pos_i - 1\n",
    "            \n",
    "        dataset_joined.append(np.append(sent.numpy(), y))\n",
    "\n",
    "    return dataset_joined"
   ]
  },
  {
   "cell_type": "code",
   "execution_count": 20,
   "metadata": {
    "colab": {
     "base_uri": "https://localhost:8080/",
     "height": 49,
     "referenced_widgets": [
      "3a7f057ec2134822875a2679674ed89e",
      "02e24e2dfc1f4d4ebd391940ed2a83cf",
      "7d8b07a121754f4d9f33b547397355ad",
      "ca1717165dd04ef9a6aaf101eda247e3",
      "6a0bade191724b8f844a19de6a8ea846",
      "4bc89ca9c14d48f0a75334ee41f553ef",
      "157232e2f2964829a929dd1d10ff1225",
      "563f97b883f94f62a46ef2d71eb193f3"
     ]
    },
    "colab_type": "code",
    "id": "8HOBgF9yxdM8",
    "outputId": "202388d3-f4aa-43c9-e24a-c1486d3ab661"
   },
   "outputs": [
    {
     "data": {
      "application/vnd.jupyter.widget-view+json": {
       "model_id": "3197288afb4f4105821bdf8e35570ee3",
       "version_major": 2,
       "version_minor": 0
      },
      "text/plain": [
       "HBox(children=(IntProgress(value=1, bar_style='info', max=1), HTML(value='')))"
      ]
     },
     "metadata": {},
     "output_type": "display_data"
    },
    {
     "name": "stdout",
     "output_type": "stream",
     "text": [
      "\n"
     ]
    }
   ],
   "source": [
    "dataset_joined = join_dataset(dataset_padded, dataset_pos, dataset)\n",
    "# print(dataset_joined.shape)"
   ]
  },
  {
   "cell_type": "code",
   "execution_count": 21,
   "metadata": {},
   "outputs": [],
   "source": [
    "del dataset_padded\n",
    "del dataset_pos"
   ]
  },
  {
   "cell_type": "code",
   "execution_count": 22,
   "metadata": {
    "colab": {},
    "colab_type": "code",
    "id": "RBV-OUxTxdNI"
   },
   "outputs": [],
   "source": [
    "train, val = train_test_split(dataset_joined, test_size=0.2, random_state=42)"
   ]
  },
  {
   "cell_type": "code",
   "execution_count": 23,
   "metadata": {
    "colab": {
     "base_uri": "https://localhost:8080/",
     "height": 35
    },
    "colab_type": "code",
    "id": "TCXoBq9ym64V",
    "outputId": "6378b83b-e4db-4156-cc69-7e94292d5441"
   },
   "outputs": [
    {
     "name": "stdout",
     "output_type": "stream",
     "text": [
      "[  877     2  6150 ... 65001   222   222]\n"
     ]
    }
   ],
   "source": [
    "print(train[1])"
   ]
  },
  {
   "cell_type": "code",
   "execution_count": 24,
   "metadata": {
    "colab": {},
    "colab_type": "code",
    "id": "ZAssvCKbxdNM"
   },
   "outputs": [],
   "source": [
    "class MyLSTM(nn.Module):\n",
    "    def __init__(self, embedding_dim, hidden_dim, num_layers, bidirectional, vocab_size, tagset_size):\n",
    "        super(MyLSTM, self).__init__()\n",
    "        self.word_embeddings = nn.Embedding(vocab_size, embedding_dim)\n",
    "        self.lstm = nn.LSTM(embedding_dim, hidden_dim,\n",
    "                            num_layers=num_layers, bidirectional=bidirectional, batch_first=True)\n",
    "        # self.fc1 = nn.Linear(hidden_dim, hidden_dim)\n",
    "        self.fc2 = nn.Linear(hidden_dim * 2 if bidirectional else hidden_dim, tagset_size)\n",
    "        # self.dropout = nn.Dropout(0.5)\n",
    "    \n",
    "    def forward(self, x):\n",
    "        x = self.word_embeddings(x)\n",
    "        x, _ = self.lstm(x)\n",
    "        x = self.fc2(x)\n",
    "        x = torch.transpose(x, 1, 2)\n",
    "        x = F.log_softmax(x, dim=2)\n",
    "        \n",
    "        return x"
   ]
  },
  {
   "cell_type": "code",
   "execution_count": 25,
   "metadata": {
    "colab": {},
    "colab_type": "code",
    "id": "6xw73WgmxdNT"
   },
   "outputs": [],
   "source": [
    "def fit(model, train, val, optimizer, loss_function, epoch_cnt, batch_size):\n",
    "    train_loader = torch.utils.data.DataLoader(train, batch_size=batch_size, shuffle=True)\n",
    "    val_loader = torch.utils.data.DataLoader(val, batch_size=batch_size)\n",
    "    train_loss_values = []\n",
    "    val_loss_values = []\n",
    "            \n",
    "    for epoch in tnrange(epoch_cnt, desc='Epoch'):\n",
    "        for batch_data in train_loader:\n",
    "            x, y = batch_data[:, :-2].to(device), batch_data[:, -2:].to(device)\n",
    "            optimizer.zero_grad()\n",
    "            output = model(x.long())\n",
    "            y1, y2 = y[:, 0].reshape(-1), y[:, 1].reshape(-1)\n",
    "            loss1 = loss_function(output[:, 0], y1.long())\n",
    "            loss2 = loss_function(output[:, 1], y2.long())\n",
    "            loss = (loss1 + loss2) / 2\n",
    "            loss.backward()\n",
    "\n",
    "            train_loss_values.append(loss.item())\n",
    "            nn.utils.clip_grad_norm_(model.parameters(), 5)\n",
    "            optimizer.step()\n",
    "\n",
    "#             wandb.log({\n",
    "#                 \"Train Loss\": loss.item()})\n",
    "\n",
    "        with torch.no_grad():\n",
    "            loss_values = []\n",
    "            for batch_data in val_loader:\n",
    "                x, y = batch_data[:, :-2].to(device), batch_data[:, -2:].to(device)\n",
    "                output = model(x.long())\n",
    "                y1, y2 = y[:, 0].reshape(-1), y[:, 1].reshape(-1)\n",
    "                loss1 = loss_function(output[:, 0], y1.long())\n",
    "                loss2 = loss_function(output[:, 1], y2.long())\n",
    "                loss = (loss1 + loss2) / 2\n",
    "\n",
    "                loss_values.append(loss.item())\n",
    "            val_loss_values.append(np.mean(np.array(loss_values)))\n",
    "\n",
    "#             wandb.log({\n",
    "#                 \"Validation Loss\": val_loss_values[-1]})\n",
    "\n",
    "    return train_loss_values, val_loss_values \n"
   ]
  },
  {
   "cell_type": "code",
   "execution_count": 26,
   "metadata": {
    "colab": {},
    "colab_type": "code",
    "id": "dXXYUI-mxdNa"
   },
   "outputs": [],
   "source": [
    "embedding_dim = 64\n",
    "hidden_dim = 64\n",
    "num_layers = 1\n",
    "bidirectional = True\n",
    "vocab_size = max(pad_value, len(word_to_idx)) + 1\n",
    "tagset_size = 2\n",
    "epoch_cnt = 10\n",
    "batch_size = 64"
   ]
  },
  {
   "cell_type": "code",
   "execution_count": 66,
   "metadata": {},
   "outputs": [],
   "source": [
    "# del model\n",
    "torch.cuda.empty_cache()\n"
   ]
  },
  {
   "cell_type": "code",
   "execution_count": 27,
   "metadata": {
    "colab": {},
    "colab_type": "code",
    "id": "7TidGCKaxdNd"
   },
   "outputs": [],
   "source": [
    "# device = torch.device('cuda' if torch.cuda.is_available() else 'cpu')\n",
    "# device = torch.device('cpu')\n",
    "# wandb.init(entity=\"vadim-farutin\", project=\"HSE-NLP-task3\")\n",
    "# wandb.watch_called = False # Re-run the model without restarting the runtime, unnecessary after our next release\n",
    "model = MyLSTM(embedding_dim, hidden_dim, num_layers, bidirectional, vocab_size, tagset_size)\n",
    "model = model.float()\n",
    "model = model.to(device)"
   ]
  },
  {
   "cell_type": "code",
   "execution_count": 28,
   "metadata": {
    "colab": {},
    "colab_type": "code",
    "id": "h1rI1_MYxdNi"
   },
   "outputs": [],
   "source": [
    "loss_function = nn.NLLLoss()\n",
    "optimizer = optim.Adam(model.parameters())"
   ]
  },
  {
   "cell_type": "code",
   "execution_count": 29,
   "metadata": {
    "colab": {
     "base_uri": "https://localhost:8080/",
     "height": 101,
     "referenced_widgets": [
      "abe11ccd87c344aabbfdda336b1e9582",
      "dffbeafd436146df86ee962bba9962b1",
      "76ef702eafda49f1851c424575a2e8ca",
      "093ad096843e45e8861aefdf438c70c9",
      "9b4a815028934e55b2f4e2d28231fab6",
      "ee8c6f095d674a3b9c1d408c28a35b0b",
      "785ba6f07e4f47b9997f9df7d6d9159a",
      "a43e315787f5491386b0e347553a028e"
     ]
    },
    "colab_type": "code",
    "id": "ke_exZJWxdNs",
    "outputId": "0de512af-f705-492b-bee9-242e42bc5f8d"
   },
   "outputs": [
    {
     "data": {
      "application/vnd.jupyter.widget-view+json": {
       "model_id": "29d1b15c3af14ad0bd23749fc9a831ff",
       "version_major": 2,
       "version_minor": 0
      },
      "text/plain": [
       "HBox(children=(IntProgress(value=0, description='Epoch', max=10, style=ProgressStyle(description_width='initia…"
      ]
     },
     "metadata": {},
     "output_type": "display_data"
    },
    {
     "name": "stdout",
     "output_type": "stream",
     "text": [
      "\n"
     ]
    }
   ],
   "source": [
    "# wandb.init(entity=\"vadim-farutin\", project=\"HSE-NLP-task4\")\n",
    "# wandb.watch_called = False # Re-run the model without restarting the runtime, unnecessary after our next release\n",
    "# wandb.watch(model, log=\"all\")\n",
    "\n",
    "# # WandB – Config is a variable that holds and saves hyperparameters and inputs\n",
    "# config = wandb.config          # Initialize config\n",
    "# config.batch_size = 256          # input batch size for training (default: 64)\n",
    "# config.test_batch_size = 256    # input batch size for testing (default: 1000)\n",
    "# config.epochs = 160             # number of epochs to train (default: 10)\n",
    "# config.lr = 5e-4               # learning rate (default: 0.01)\n",
    "# config.embedding_dim = 64          # SGD momentum (default: 0.5) \n",
    "# config.hidden_dim = 128         # disables CUDA training\n",
    "# config.num_layers = 1               # random seed (default: 42)\n",
    "# config.bidirectional = False     # how many batches to wait before logging training status\n",
    "\n",
    "train_loss_values, val_loss_values =\\\n",
    "    fit(model, train, val, optimizer, loss_function, epoch_cnt, batch_size)"
   ]
  },
  {
   "cell_type": "code",
   "execution_count": 30,
   "metadata": {
    "colab": {},
    "colab_type": "code",
    "id": "vsH8OQi0xdNy"
   },
   "outputs": [],
   "source": [
    "def plot_loss_values(train_loss_values, val_loss_values):\n",
    "    plt.plot(np.arange(len(train_loss_values)), train_loss_values, color='blue', label='train')\n",
    "    plt.plot(np.arange(0, len(train_loss_values), len(train_loss_values) / epoch_cnt), val_loss_values, color='red', label='validation')\n",
    "    plt.legend()\n",
    "    plt.title(\"Loss values\")\n",
    "    plt.xlabel(\"iteration\")\n",
    "    plt.ylabel(\"loss\")\n",
    "    plt.show()"
   ]
  },
  {
   "cell_type": "code",
   "execution_count": 31,
   "metadata": {
    "colab": {
     "base_uri": "https://localhost:8080/",
     "height": 295
    },
    "colab_type": "code",
    "id": "xcnlpTXKxdN3",
    "outputId": "2309f497-4041-463b-e23b-b8227f0e40fc",
    "scrolled": true
   },
   "outputs": [
    {
     "data": {
      "image/png": "[encoded data removed]",
      "text/plain": [
       "<Figure size 432x288 with 1 Axes>"
      ]
     },
     "metadata": {
      "needs_background": "light"
     },
     "output_type": "display_data"
    }
   ],
   "source": [
    "plot_loss_values(train_loss_values, val_loss_values)"
   ]
  },
  {
   "cell_type": "code",
   "execution_count": 32,
   "metadata": {
    "colab": {},
    "colab_type": "code",
    "id": "JuXQFeCexdLM"
   },
   "outputs": [],
   "source": [
    "def read_input():\n",
    "    input_filename = \"./dataset_281937_1.txt\"\n",
    "    X = []\n",
    "\n",
    "    with open(input_filename, encoding='utf-8') as input_file:\n",
    "        reader = csv.reader(input_file, delimiter='\\t')\n",
    "        next(reader)\n",
    "        for row in reader:\n",
    "            query = row[3]\n",
    "            if query[-1] == '?':\n",
    "                query = query[:-1]\n",
    "            X.append({'paragraph': re.split('(\\W)', row[2]),\n",
    "                      'query': re.split('(\\W)', query),\n",
    "                      'query_id': row[1]})\n",
    "\n",
    "    return X\n"
   ]
  },
  {
   "cell_type": "code",
   "execution_count": 33,
   "metadata": {
    "colab": {
     "base_uri": "https://localhost:8080/",
     "height": 81,
     "referenced_widgets": [
      "1ba668d628064fccb2531e6dcf5764db",
      "9267d8985580432298e3a215126b8855",
      "a5b21eb890c04e6dae2f2fe9fafc2c3e",
      "11f83515c7be4f7d830f91802928ba2c",
      "0abb1862fb8e4211948209967a91a75b",
      "4730c89c71664064aded38c5dadee087",
      "a9692e30059d481db4723c6f35541616",
      "69e4626f425043c7a5d5ff7f88fdcad6",
      "757448cd79b64b54b3d246c55e5d9203",
      "bda88afafd154d40b71a39d6652f2470",
      "3959c9239e1b4dc1b708ea442ba32797",
      "791badef3e514e4dbf46465b111202f8",
      "6f3a4075bd28418793d5467226180bb4",
      "7b1a26aa48074727a7ce8f1a3658654e",
      "f09b19e0f15b4f1ba51c5e35c4573103",
      "9d7c670773b24ceda33ac73eefb58e54"
     ]
    },
    "colab_type": "code",
    "id": "chMdvjzjxdN9",
    "outputId": "0a90566d-e88c-4f24-98f9-e7ed7dca67b3"
   },
   "outputs": [
    {
     "data": {
      "application/vnd.jupyter.widget-view+json": {
       "model_id": "a9f6d6de4b1d475baab00bbeda04d3bb",
       "version_major": 2,
       "version_minor": 0
      },
      "text/plain": [
       "HBox(children=(IntProgress(value=0, max=1000), HTML(value='')))"
      ]
     },
     "metadata": {},
     "output_type": "display_data"
    },
    {
     "name": "stdout",
     "output_type": "stream",
     "text": [
      "\n"
     ]
    },
    {
     "data": {
      "application/vnd.jupyter.widget-view+json": {
       "model_id": "49db755025134feca912f59ee372bf6c",
       "version_major": 2,
       "version_minor": 0
      },
      "text/plain": [
       "HBox(children=(IntProgress(value=0, max=1000), HTML(value='')))"
      ]
     },
     "metadata": {},
     "output_type": "display_data"
    },
    {
     "name": "stdout",
     "output_type": "stream",
     "text": [
      "\n"
     ]
    }
   ],
   "source": [
    "test = read_input()\n",
    "test_padded = pad_dataset(test, False)\n",
    "test_pos = pos_dataset(test)"
   ]
  },
  {
   "cell_type": "code",
   "execution_count": 34,
   "metadata": {
    "colab": {
     "base_uri": "https://localhost:8080/",
     "height": 35
    },
    "colab_type": "code",
    "id": "wYunzdES1c4t",
    "outputId": "8b3881b2-f1a2-41dc-b9f7-93ad00a20e09"
   },
   "outputs": [
    {
     "name": "stdout",
     "output_type": "stream",
     "text": [
      "torch.Size([1000, 743])\n"
     ]
    }
   ],
   "source": [
    "print(test_padded.shape)"
   ]
  },
  {
   "cell_type": "code",
   "execution_count": 0,
   "metadata": {
    "colab": {
     "base_uri": "https://localhost:8080/",
     "height": 53
    },
    "colab_type": "code",
    "id": "WWLVd6BnB48G",
    "outputId": "6bba218a-3296-4c41-d424-64ed69f973c9"
   },
   "outputs": [
    {
     "name": "stdout",
     "output_type": "stream",
     "text": [
      "355\n",
      "19632\n"
     ]
    }
   ],
   "source": [
    "new_words = 0\n",
    "cnt_words = 0\n",
    "\n",
    "for sent in test:\n",
    "    for word in sent:\n",
    "        stemmed = stemmer.stem(word.lower())\n",
    "        cnt_words += 1\n",
    "\n",
    "        if stemmed not in word_to_idx:\n",
    "            new_words += 1\n",
    "\n",
    "print(new_words)\n",
    "print(cnt_words)"
   ]
  },
  {
   "cell_type": "code",
   "execution_count": 35,
   "metadata": {
    "colab": {},
    "colab_type": "code",
    "id": "cJ3_rkDCxdOF"
   },
   "outputs": [],
   "source": [
    "with torch.no_grad():\n",
    "    test_loader = torch.utils.data.DataLoader(test_padded, batch_size=batch_size)\n",
    "    ans = None\n",
    "    \n",
    "    for batch_data in test_loader:\n",
    "        x = batch_data.to(device)\n",
    "        output = model(x.long())\n",
    "        _, ansx = output.max(dim=2)\n",
    "        ansx = ansx.cpu().numpy()\n",
    "        if ans is None:\n",
    "            ans = ansx\n",
    "        else:\n",
    "            ans = np.append(ans, ansx, axis=0)"
   ]
  },
  {
   "cell_type": "code",
   "execution_count": 36,
   "metadata": {
    "colab": {
     "base_uri": "https://localhost:8080/",
     "height": 35
    },
    "colab_type": "code",
    "id": "McRf6SmhsTnM",
    "outputId": "75a25e7d-d557-42bf-abf4-555770f362e5"
   },
   "outputs": [
    {
     "name": "stdout",
     "output_type": "stream",
     "text": [
      "[178  56]\n"
     ]
    }
   ],
   "source": [
    "print(ans[0])"
   ]
  },
  {
   "cell_type": "code",
   "execution_count": 37,
   "metadata": {
    "colab": {},
    "colab_type": "code",
    "id": "B29hzFLOxdOJ"
   },
   "outputs": [],
   "source": [
    "output_filename = \"./output.txt\"\n",
    "\n",
    "with open(output_filename, \"w\", encoding=\"utf-8\") as output_file:\n",
    "    for tags, row in zip(ans, test):\n",
    "        start, end = tags\n",
    "        if start > end:\n",
    "            start, end = end, start\n",
    "        if end >= len(row['paragraph']):\n",
    "            start, end = 0, 0\n",
    "        output_file.write(\"%s\\t%s\\n\" % (row['query_id'], \"\".join(row['paragraph'][start:end + 1])))\n"
   ]
  },
  {
   "cell_type": "code",
   "execution_count": 0,
   "metadata": {
    "colab": {},
    "colab_type": "code",
    "id": "NjpxYr9Mmogc"
   },
   "outputs": [],
   "source": []
  }
 ],
 "metadata": {
  "accelerator": "GPU",
  "colab": {
   "collapsed_sections": [],
   "name": "task4.ipynb",
   "provenance": []
  },
  "kernelspec": {
   "display_name": "Python 3",
   "language": "python",
   "name": "python3"
  },
  "language_info": {
   "codemirror_mode": {
    "name": "ipython",
    "version": 3
   },
   "file_extension": ".py",
   "mimetype": "text/x-python",
   "name": "python",
   "nbconvert_exporter": "python",
   "pygments_lexer": "ipython3",
   "version": "3.6.7"
  },
  "widgets": {
   "application/vnd.jupyter.widget-state+json": {
    "02e24e2dfc1f4d4ebd391940ed2a83cf": {
     "model_module": "@jupyter-widgets/base",
     "model_name": "LayoutModel",
     "state": {
      "_model_module": "@jupyter-widgets/base",
      "_model_module_version": "1.2.0",
      "_model_name": "LayoutModel",
      "_view_count": null,
      "_view_module": "@jupyter-widgets/base",
      "_view_module_version": "1.2.0",
      "_view_name": "LayoutView",
      "align_content": null,
      "align_items": null,
      "align_self": null,
      "border": null,
      "bottom": null,
      "display": null,
      "flex": null,
      "flex_flow": null,
      "grid_area": null,
      "grid_auto_columns": null,
      "grid_auto_flow": null,
      "grid_auto_rows": null,
      "grid_column": null,
      "grid_gap": null,
      "grid_row": null,
      "grid_template_areas": null,
      "grid_template_columns": null,
      "grid_template_rows": null,
      "height": null,
      "justify_content": null,
      "justify_items": null,
      "left": null,
      "margin": null,
      "max_height": null,
      "max_width": null,
      "min_height": null,
      "min_width": null,
      "object_fit": null,
      "object_position": null,
      "order": null,
      "overflow": null,
      "overflow_x": null,
      "overflow_y": null,
      "padding": null,
      "right": null,
      "top": null,
      "visibility": null,
      "width": null
     }
    },
    "093ad096843e45e8861aefdf438c70c9": {
     "model_module": "@jupyter-widgets/controls",
     "model_name": "HTMLModel",
     "state": {
      "_dom_classes": [],
      "_model_module": "@jupyter-widgets/controls",
      "_model_module_version": "1.5.0",
      "_model_name": "HTMLModel",
      "_view_count": null,
      "_view_module": "@jupyter-widgets/controls",
      "_view_module_version": "1.5.0",
      "_view_name": "HTMLView",
      "description": "",
      "description_tooltip": null,
      "layout": "IPY_MODEL_a43e315787f5491386b0e347553a028e",
      "placeholder": "​",
      "style": "IPY_MODEL_785ba6f07e4f47b9997f9df7d6d9159a",
      "value": " 20% 1/5 [03:09&lt;12:39, 189.78s/it]"
     }
    },
    "0abb1862fb8e4211948209967a91a75b": {
     "model_module": "@jupyter-widgets/controls",
     "model_name": "ProgressStyleModel",
     "state": {
      "_model_module": "@jupyter-widgets/controls",
      "_model_module_version": "1.5.0",
      "_model_name": "ProgressStyleModel",
      "_view_count": null,
      "_view_module": "@jupyter-widgets/base",
      "_view_module_version": "1.2.0",
      "_view_name": "StyleView",
      "bar_color": null,
      "description_width": ""
     }
    },
    "107a5e949c1e4173adc7dda6271d3c40": {
     "model_module": "@jupyter-widgets/controls",
     "model_name": "ProgressStyleModel",
     "state": {
      "_model_module": "@jupyter-widgets/controls",
      "_model_module_version": "1.5.0",
      "_model_name": "ProgressStyleModel",
      "_view_count": null,
      "_view_module": "@jupyter-widgets/base",
      "_view_module_version": "1.2.0",
      "_view_name": "StyleView",
      "bar_color": null,
      "description_width": ""
     }
    },
    "11f83515c7be4f7d830f91802928ba2c": {
     "model_module": "@jupyter-widgets/controls",
     "model_name": "HTMLModel",
     "state": {
      "_dom_classes": [],
      "_model_module": "@jupyter-widgets/controls",
      "_model_module_version": "1.5.0",
      "_model_name": "HTMLModel",
      "_view_count": null,
      "_view_module": "@jupyter-widgets/controls",
      "_view_module_version": "1.5.0",
      "_view_name": "HTMLView",
      "description": "",
      "description_tooltip": null,
      "layout": "IPY_MODEL_69e4626f425043c7a5d5ff7f88fdcad6",
      "placeholder": "​",
      "style": "IPY_MODEL_a9692e30059d481db4723c6f35541616",
      "value": "100% 1000/1000 [00:13&lt;00:00, 72.70it/s]"
     }
    },
    "131c9d20497248289bdd53a0c0094171": {
     "model_module": "@jupyter-widgets/base",
     "model_name": "LayoutModel",
     "state": {
      "_model_module": "@jupyter-widgets/base",
      "_model_module_version": "1.2.0",
      "_model_name": "LayoutModel",
      "_view_count": null,
      "_view_module": "@jupyter-widgets/base",
      "_view_module_version": "1.2.0",
      "_view_name": "LayoutView",
      "align_content": null,
      "align_items": null,
      "align_self": null,
      "border": null,
      "bottom": null,
      "display": null,
      "flex": null,
      "flex_flow": null,
      "grid_area": null,
      "grid_auto_columns": null,
      "grid_auto_flow": null,
      "grid_auto_rows": null,
      "grid_column": null,
      "grid_gap": null,
      "grid_row": null,
      "grid_template_areas": null,
      "grid_template_columns": null,
      "grid_template_rows": null,
      "height": null,
      "justify_content": null,
      "justify_items": null,
      "left": null,
      "margin": null,
      "max_height": null,
      "max_width": null,
      "min_height": null,
      "min_width": null,
      "object_fit": null,
      "object_position": null,
      "order": null,
      "overflow": null,
      "overflow_x": null,
      "overflow_y": null,
      "padding": null,
      "right": null,
      "top": null,
      "visibility": null,
      "width": null
     }
    },
    "157232e2f2964829a929dd1d10ff1225": {
     "model_module": "@jupyter-widgets/controls",
     "model_name": "DescriptionStyleModel",
     "state": {
      "_model_module": "@jupyter-widgets/controls",
      "_model_module_version": "1.5.0",
      "_model_name": "DescriptionStyleModel",
      "_view_count": null,
      "_view_module": "@jupyter-widgets/base",
      "_view_module_version": "1.2.0",
      "_view_name": "StyleView",
      "description_width": ""
     }
    },
    "1ba668d628064fccb2531e6dcf5764db": {
     "model_module": "@jupyter-widgets/controls",
     "model_name": "HBoxModel",
     "state": {
      "_dom_classes": [],
      "_model_module": "@jupyter-widgets/controls",
      "_model_module_version": "1.5.0",
      "_model_name": "HBoxModel",
      "_view_count": null,
      "_view_module": "@jupyter-widgets/controls",
      "_view_module_version": "1.5.0",
      "_view_name": "HBoxView",
      "box_style": "",
      "children": [
       "IPY_MODEL_a5b21eb890c04e6dae2f2fe9fafc2c3e",
       "IPY_MODEL_11f83515c7be4f7d830f91802928ba2c"
      ],
      "layout": "IPY_MODEL_9267d8985580432298e3a215126b8855"
     }
    },
    "203b2492d64c4f5fba5058f3154cb5fc": {
     "model_module": "@jupyter-widgets/controls",
     "model_name": "HBoxModel",
     "state": {
      "_dom_classes": [],
      "_model_module": "@jupyter-widgets/controls",
      "_model_module_version": "1.5.0",
      "_model_name": "HBoxModel",
      "_view_count": null,
      "_view_module": "@jupyter-widgets/controls",
      "_view_module_version": "1.5.0",
      "_view_name": "HBoxView",
      "box_style": "",
      "children": [
       "IPY_MODEL_e7a2b070bc4a444eb9302031ab867126",
       "IPY_MODEL_fa0ebc16b7db48d8b1cd133b0fb1013d"
      ],
      "layout": "IPY_MODEL_131c9d20497248289bdd53a0c0094171"
     }
    },
    "3959c9239e1b4dc1b708ea442ba32797": {
     "model_module": "@jupyter-widgets/controls",
     "model_name": "IntProgressModel",
     "state": {
      "_dom_classes": [],
      "_model_module": "@jupyter-widgets/controls",
      "_model_module_version": "1.5.0",
      "_model_name": "IntProgressModel",
      "_view_count": null,
      "_view_module": "@jupyter-widgets/controls",
      "_view_module_version": "1.5.0",
      "_view_name": "ProgressView",
      "bar_style": "success",
      "description": "",
      "description_tooltip": null,
      "layout": "IPY_MODEL_7b1a26aa48074727a7ce8f1a3658654e",
      "max": 1000,
      "min": 0,
      "orientation": "horizontal",
      "style": "IPY_MODEL_6f3a4075bd28418793d5467226180bb4",
      "value": 1000
     }
    },
    "3a7f057ec2134822875a2679674ed89e": {
     "model_module": "@jupyter-widgets/controls",
     "model_name": "HBoxModel",
     "state": {
      "_dom_classes": [],
      "_model_module": "@jupyter-widgets/controls",
      "_model_module_version": "1.5.0",
      "_model_name": "HBoxModel",
      "_view_count": null,
      "_view_module": "@jupyter-widgets/controls",
      "_view_module_version": "1.5.0",
      "_view_name": "HBoxView",
      "box_style": "",
      "children": [
       "IPY_MODEL_7d8b07a121754f4d9f33b547397355ad",
       "IPY_MODEL_ca1717165dd04ef9a6aaf101eda247e3"
      ],
      "layout": "IPY_MODEL_02e24e2dfc1f4d4ebd391940ed2a83cf"
     }
    },
    "3eb1a498569f4a4d81f26c5e8793009e": {
     "model_module": "@jupyter-widgets/base",
     "model_name": "LayoutModel",
     "state": {
      "_model_module": "@jupyter-widgets/base",
      "_model_module_version": "1.2.0",
      "_model_name": "LayoutModel",
      "_view_count": null,
      "_view_module": "@jupyter-widgets/base",
      "_view_module_version": "1.2.0",
      "_view_name": "LayoutView",
      "align_content": null,
      "align_items": null,
      "align_self": null,
      "border": null,
      "bottom": null,
      "display": null,
      "flex": null,
      "flex_flow": null,
      "grid_area": null,
      "grid_auto_columns": null,
      "grid_auto_flow": null,
      "grid_auto_rows": null,
      "grid_column": null,
      "grid_gap": null,
      "grid_row": null,
      "grid_template_areas": null,
      "grid_template_columns": null,
      "grid_template_rows": null,
      "height": null,
      "justify_content": null,
      "justify_items": null,
      "left": null,
      "margin": null,
      "max_height": null,
      "max_width": null,
      "min_height": null,
      "min_width": null,
      "object_fit": null,
      "object_position": null,
      "order": null,
      "overflow": null,
      "overflow_x": null,
      "overflow_y": null,
      "padding": null,
      "right": null,
      "top": null,
      "visibility": null,
      "width": null
     }
    },
    "444a2a187d0e4e4fa33f2d9922d8da38": {
     "model_module": "@jupyter-widgets/controls",
     "model_name": "HBoxModel",
     "state": {
      "_dom_classes": [],
      "_model_module": "@jupyter-widgets/controls",
      "_model_module_version": "1.5.0",
      "_model_name": "HBoxModel",
      "_view_count": null,
      "_view_module": "@jupyter-widgets/controls",
      "_view_module_version": "1.5.0",
      "_view_name": "HBoxView",
      "box_style": "",
      "children": [
       "IPY_MODEL_f77dfe06431140b6b39abe392a3152fb",
       "IPY_MODEL_82acac4927a94df6a5d743f32497281e"
      ],
      "layout": "IPY_MODEL_9abe089fe8e14f62a2d94652da0a21d4"
     }
    },
    "4730c89c71664064aded38c5dadee087": {
     "model_module": "@jupyter-widgets/base",
     "model_name": "LayoutModel",
     "state": {
      "_model_module": "@jupyter-widgets/base",
      "_model_module_version": "1.2.0",
      "_model_name": "LayoutModel",
      "_view_count": null,
      "_view_module": "@jupyter-widgets/base",
      "_view_module_version": "1.2.0",
      "_view_name": "LayoutView",
      "align_content": null,
      "align_items": null,
      "align_self": null,
      "border": null,
      "bottom": null,
      "display": null,
      "flex": null,
      "flex_flow": null,
      "grid_area": null,
      "grid_auto_columns": null,
      "grid_auto_flow": null,
      "grid_auto_rows": null,
      "grid_column": null,
      "grid_gap": null,
      "grid_row": null,
      "grid_template_areas": null,
      "grid_template_columns": null,
      "grid_template_rows": null,
      "height": null,
      "justify_content": null,
      "justify_items": null,
      "left": null,
      "margin": null,
      "max_height": null,
      "max_width": null,
      "min_height": null,
      "min_width": null,
      "object_fit": null,
      "object_position": null,
      "order": null,
      "overflow": null,
      "overflow_x": null,
      "overflow_y": null,
      "padding": null,
      "right": null,
      "top": null,
      "visibility": null,
      "width": null
     }
    },
    "4bc89ca9c14d48f0a75334ee41f553ef": {
     "model_module": "@jupyter-widgets/base",
     "model_name": "LayoutModel",
     "state": {
      "_model_module": "@jupyter-widgets/base",
      "_model_module_version": "1.2.0",
      "_model_name": "LayoutModel",
      "_view_count": null,
      "_view_module": "@jupyter-widgets/base",
      "_view_module_version": "1.2.0",
      "_view_name": "LayoutView",
      "align_content": null,
      "align_items": null,
      "align_self": null,
      "border": null,
      "bottom": null,
      "display": null,
      "flex": null,
      "flex_flow": null,
      "grid_area": null,
      "grid_auto_columns": null,
      "grid_auto_flow": null,
      "grid_auto_rows": null,
      "grid_column": null,
      "grid_gap": null,
      "grid_row": null,
      "grid_template_areas": null,
      "grid_template_columns": null,
      "grid_template_rows": null,
      "height": null,
      "justify_content": null,
      "justify_items": null,
      "left": null,
      "margin": null,
      "max_height": null,
      "max_width": null,
      "min_height": null,
      "min_width": null,
      "object_fit": null,
      "object_position": null,
      "order": null,
      "overflow": null,
      "overflow_x": null,
      "overflow_y": null,
      "padding": null,
      "right": null,
      "top": null,
      "visibility": null,
      "width": null
     }
    },
    "5154d44f890042b99e37e4081c87b998": {
     "model_module": "@jupyter-widgets/base",
     "model_name": "LayoutModel",
     "state": {
      "_model_module": "@jupyter-widgets/base",
      "_model_module_version": "1.2.0",
      "_model_name": "LayoutModel",
      "_view_count": null,
      "_view_module": "@jupyter-widgets/base",
      "_view_module_version": "1.2.0",
      "_view_name": "LayoutView",
      "align_content": null,
      "align_items": null,
      "align_self": null,
      "border": null,
      "bottom": null,
      "display": null,
      "flex": null,
      "flex_flow": null,
      "grid_area": null,
      "grid_auto_columns": null,
      "grid_auto_flow": null,
      "grid_auto_rows": null,
      "grid_column": null,
      "grid_gap": null,
      "grid_row": null,
      "grid_template_areas": null,
      "grid_template_columns": null,
      "grid_template_rows": null,
      "height": null,
      "justify_content": null,
      "justify_items": null,
      "left": null,
      "margin": null,
      "max_height": null,
      "max_width": null,
      "min_height": null,
      "min_width": null,
      "object_fit": null,
      "object_position": null,
      "order": null,
      "overflow": null,
      "overflow_x": null,
      "overflow_y": null,
      "padding": null,
      "right": null,
      "top": null,
      "visibility": null,
      "width": null
     }
    },
    "563f97b883f94f62a46ef2d71eb193f3": {
     "model_module": "@jupyter-widgets/base",
     "model_name": "LayoutModel",
     "state": {
      "_model_module": "@jupyter-widgets/base",
      "_model_module_version": "1.2.0",
      "_model_name": "LayoutModel",
      "_view_count": null,
      "_view_module": "@jupyter-widgets/base",
      "_view_module_version": "1.2.0",
      "_view_name": "LayoutView",
      "align_content": null,
      "align_items": null,
      "align_self": null,
      "border": null,
      "bottom": null,
      "display": null,
      "flex": null,
      "flex_flow": null,
      "grid_area": null,
      "grid_auto_columns": null,
      "grid_auto_flow": null,
      "grid_auto_rows": null,
      "grid_column": null,
      "grid_gap": null,
      "grid_row": null,
      "grid_template_areas": null,
      "grid_template_columns": null,
      "grid_template_rows": null,
      "height": null,
      "justify_content": null,
      "justify_items": null,
      "left": null,
      "margin": null,
      "max_height": null,
      "max_width": null,
      "min_height": null,
      "min_width": null,
      "object_fit": null,
      "object_position": null,
      "order": null,
      "overflow": null,
      "overflow_x": null,
      "overflow_y": null,
      "padding": null,
      "right": null,
      "top": null,
      "visibility": null,
      "width": null
     }
    },
    "69e4626f425043c7a5d5ff7f88fdcad6": {
     "model_module": "@jupyter-widgets/base",
     "model_name": "LayoutModel",
     "state": {
      "_model_module": "@jupyter-widgets/base",
      "_model_module_version": "1.2.0",
      "_model_name": "LayoutModel",
      "_view_count": null,
      "_view_module": "@jupyter-widgets/base",
      "_view_module_version": "1.2.0",
      "_view_name": "LayoutView",
      "align_content": null,
      "align_items": null,
      "align_self": null,
      "border": null,
      "bottom": null,
      "display": null,
      "flex": null,
      "flex_flow": null,
      "grid_area": null,
      "grid_auto_columns": null,
      "grid_auto_flow": null,
      "grid_auto_rows": null,
      "grid_column": null,
      "grid_gap": null,
      "grid_row": null,
      "grid_template_areas": null,
      "grid_template_columns": null,
      "grid_template_rows": null,
      "height": null,
      "justify_content": null,
      "justify_items": null,
      "left": null,
      "margin": null,
      "max_height": null,
      "max_width": null,
      "min_height": null,
      "min_width": null,
      "object_fit": null,
      "object_position": null,
      "order": null,
      "overflow": null,
      "overflow_x": null,
      "overflow_y": null,
      "padding": null,
      "right": null,
      "top": null,
      "visibility": null,
      "width": null
     }
    },
    "6a0bade191724b8f844a19de6a8ea846": {
     "model_module": "@jupyter-widgets/controls",
     "model_name": "ProgressStyleModel",
     "state": {
      "_model_module": "@jupyter-widgets/controls",
      "_model_module_version": "1.5.0",
      "_model_name": "ProgressStyleModel",
      "_view_count": null,
      "_view_module": "@jupyter-widgets/base",
      "_view_module_version": "1.2.0",
      "_view_name": "StyleView",
      "bar_color": null,
      "description_width": ""
     }
    },
    "6f3a4075bd28418793d5467226180bb4": {
     "model_module": "@jupyter-widgets/controls",
     "model_name": "ProgressStyleModel",
     "state": {
      "_model_module": "@jupyter-widgets/controls",
      "_model_module_version": "1.5.0",
      "_model_name": "ProgressStyleModel",
      "_view_count": null,
      "_view_module": "@jupyter-widgets/base",
      "_view_module_version": "1.2.0",
      "_view_name": "StyleView",
      "bar_color": null,
      "description_width": ""
     }
    },
    "6fba86460d604606ad46e14d43401355": {
     "model_module": "@jupyter-widgets/controls",
     "model_name": "DescriptionStyleModel",
     "state": {
      "_model_module": "@jupyter-widgets/controls",
      "_model_module_version": "1.5.0",
      "_model_name": "DescriptionStyleModel",
      "_view_count": null,
      "_view_module": "@jupyter-widgets/base",
      "_view_module_version": "1.2.0",
      "_view_name": "StyleView",
      "description_width": ""
     }
    },
    "757448cd79b64b54b3d246c55e5d9203": {
     "model_module": "@jupyter-widgets/controls",
     "model_name": "HBoxModel",
     "state": {
      "_dom_classes": [],
      "_model_module": "@jupyter-widgets/controls",
      "_model_module_version": "1.5.0",
      "_model_name": "HBoxModel",
      "_view_count": null,
      "_view_module": "@jupyter-widgets/controls",
      "_view_module_version": "1.5.0",
      "_view_name": "HBoxView",
      "box_style": "",
      "children": [
       "IPY_MODEL_3959c9239e1b4dc1b708ea442ba32797",
       "IPY_MODEL_791badef3e514e4dbf46465b111202f8"
      ],
      "layout": "IPY_MODEL_bda88afafd154d40b71a39d6652f2470"
     }
    },
    "76ef702eafda49f1851c424575a2e8ca": {
     "model_module": "@jupyter-widgets/controls",
     "model_name": "IntProgressModel",
     "state": {
      "_dom_classes": [],
      "_model_module": "@jupyter-widgets/controls",
      "_model_module_version": "1.5.0",
      "_model_name": "IntProgressModel",
      "_view_count": null,
      "_view_module": "@jupyter-widgets/controls",
      "_view_module_version": "1.5.0",
      "_view_name": "ProgressView",
      "bar_style": "",
      "description": "Epoch",
      "description_tooltip": null,
      "layout": "IPY_MODEL_ee8c6f095d674a3b9c1d408c28a35b0b",
      "max": 5,
      "min": 0,
      "orientation": "horizontal",
      "style": "IPY_MODEL_9b4a815028934e55b2f4e2d28231fab6",
      "value": 1
     }
    },
    "785ba6f07e4f47b9997f9df7d6d9159a": {
     "model_module": "@jupyter-widgets/controls",
     "model_name": "DescriptionStyleModel",
     "state": {
      "_model_module": "@jupyter-widgets/controls",
      "_model_module_version": "1.5.0",
      "_model_name": "DescriptionStyleModel",
      "_view_count": null,
      "_view_module": "@jupyter-widgets/base",
      "_view_module_version": "1.2.0",
      "_view_name": "StyleView",
      "description_width": ""
     }
    },
    "791badef3e514e4dbf46465b111202f8": {
     "model_module": "@jupyter-widgets/controls",
     "model_name": "HTMLModel",
     "state": {
      "_dom_classes": [],
      "_model_module": "@jupyter-widgets/controls",
      "_model_module_version": "1.5.0",
      "_model_name": "HTMLModel",
      "_view_count": null,
      "_view_module": "@jupyter-widgets/controls",
      "_view_module_version": "1.5.0",
      "_view_name": "HTMLView",
      "description": "",
      "description_tooltip": null,
      "layout": "IPY_MODEL_9d7c670773b24ceda33ac73eefb58e54",
      "placeholder": "​",
      "style": "IPY_MODEL_f09b19e0f15b4f1ba51c5e35c4573103",
      "value": "100% 1000/1000 [00:00&lt;00:00, 9061.97it/s]"
     }
    },
    "7b1a26aa48074727a7ce8f1a3658654e": {
     "model_module": "@jupyter-widgets/base",
     "model_name": "LayoutModel",
     "state": {
      "_model_module": "@jupyter-widgets/base",
      "_model_module_version": "1.2.0",
      "_model_name": "LayoutModel",
      "_view_count": null,
      "_view_module": "@jupyter-widgets/base",
      "_view_module_version": "1.2.0",
      "_view_name": "LayoutView",
      "align_content": null,
      "align_items": null,
      "align_self": null,
      "border": null,
      "bottom": null,
      "display": null,
      "flex": null,
      "flex_flow": null,
      "grid_area": null,
      "grid_auto_columns": null,
      "grid_auto_flow": null,
      "grid_auto_rows": null,
      "grid_column": null,
      "grid_gap": null,
      "grid_row": null,
      "grid_template_areas": null,
      "grid_template_columns": null,
      "grid_template_rows": null,
      "height": null,
      "justify_content": null,
      "justify_items": null,
      "left": null,
      "margin": null,
      "max_height": null,
      "max_width": null,
      "min_height": null,
      "min_width": null,
      "object_fit": null,
      "object_position": null,
      "order": null,
      "overflow": null,
      "overflow_x": null,
      "overflow_y": null,
      "padding": null,
      "right": null,
      "top": null,
      "visibility": null,
      "width": null
     }
    },
    "7d8b07a121754f4d9f33b547397355ad": {
     "model_module": "@jupyter-widgets/controls",
     "model_name": "IntProgressModel",
     "state": {
      "_dom_classes": [],
      "_model_module": "@jupyter-widgets/controls",
      "_model_module_version": "1.5.0",
      "_model_name": "IntProgressModel",
      "_view_count": null,
      "_view_module": "@jupyter-widgets/controls",
      "_view_module_version": "1.5.0",
      "_view_name": "ProgressView",
      "bar_style": "success",
      "description": "",
      "description_tooltip": null,
      "layout": "IPY_MODEL_4bc89ca9c14d48f0a75334ee41f553ef",
      "max": 1,
      "min": 0,
      "orientation": "horizontal",
      "style": "IPY_MODEL_6a0bade191724b8f844a19de6a8ea846",
      "value": 1
     }
    },
    "82acac4927a94df6a5d743f32497281e": {
     "model_module": "@jupyter-widgets/controls",
     "model_name": "HTMLModel",
     "state": {
      "_dom_classes": [],
      "_model_module": "@jupyter-widgets/controls",
      "_model_module_version": "1.5.0",
      "_model_name": "HTMLModel",
      "_view_count": null,
      "_view_module": "@jupyter-widgets/controls",
      "_view_module_version": "1.5.0",
      "_view_name": "HTMLView",
      "description": "",
      "description_tooltip": null,
      "layout": "IPY_MODEL_5154d44f890042b99e37e4081c87b998",
      "placeholder": "​",
      "style": "IPY_MODEL_6fba86460d604606ad46e14d43401355",
      "value": "100% 50363/50363 [11:42&lt;00:00, 71.71it/s]"
     }
    },
    "837d5edab36c469aacbce8028bc7a7df": {
     "model_module": "@jupyter-widgets/base",
     "model_name": "LayoutModel",
     "state": {
      "_model_module": "@jupyter-widgets/base",
      "_model_module_version": "1.2.0",
      "_model_name": "LayoutModel",
      "_view_count": null,
      "_view_module": "@jupyter-widgets/base",
      "_view_module_version": "1.2.0",
      "_view_name": "LayoutView",
      "align_content": null,
      "align_items": null,
      "align_self": null,
      "border": null,
      "bottom": null,
      "display": null,
      "flex": null,
      "flex_flow": null,
      "grid_area": null,
      "grid_auto_columns": null,
      "grid_auto_flow": null,
      "grid_auto_rows": null,
      "grid_column": null,
      "grid_gap": null,
      "grid_row": null,
      "grid_template_areas": null,
      "grid_template_columns": null,
      "grid_template_rows": null,
      "height": null,
      "justify_content": null,
      "justify_items": null,
      "left": null,
      "margin": null,
      "max_height": null,
      "max_width": null,
      "min_height": null,
      "min_width": null,
      "object_fit": null,
      "object_position": null,
      "order": null,
      "overflow": null,
      "overflow_x": null,
      "overflow_y": null,
      "padding": null,
      "right": null,
      "top": null,
      "visibility": null,
      "width": null
     }
    },
    "9267d8985580432298e3a215126b8855": {
     "model_module": "@jupyter-widgets/base",
     "model_name": "LayoutModel",
     "state": {
      "_model_module": "@jupyter-widgets/base",
      "_model_module_version": "1.2.0",
      "_model_name": "LayoutModel",
      "_view_count": null,
      "_view_module": "@jupyter-widgets/base",
      "_view_module_version": "1.2.0",
      "_view_name": "LayoutView",
      "align_content": null,
      "align_items": null,
      "align_self": null,
      "border": null,
      "bottom": null,
      "display": null,
      "flex": null,
      "flex_flow": null,
      "grid_area": null,
      "grid_auto_columns": null,
      "grid_auto_flow": null,
      "grid_auto_rows": null,
      "grid_column": null,
      "grid_gap": null,
      "grid_row": null,
      "grid_template_areas": null,
      "grid_template_columns": null,
      "grid_template_rows": null,
      "height": null,
      "justify_content": null,
      "justify_items": null,
      "left": null,
      "margin": null,
      "max_height": null,
      "max_width": null,
      "min_height": null,
      "min_width": null,
      "object_fit": null,
      "object_position": null,
      "order": null,
      "overflow": null,
      "overflow_x": null,
      "overflow_y": null,
      "padding": null,
      "right": null,
      "top": null,
      "visibility": null,
      "width": null
     }
    },
    "9abe089fe8e14f62a2d94652da0a21d4": {
     "model_module": "@jupyter-widgets/base",
     "model_name": "LayoutModel",
     "state": {
      "_model_module": "@jupyter-widgets/base",
      "_model_module_version": "1.2.0",
      "_model_name": "LayoutModel",
      "_view_count": null,
      "_view_module": "@jupyter-widgets/base",
      "_view_module_version": "1.2.0",
      "_view_name": "LayoutView",
      "align_content": null,
      "align_items": null,
      "align_self": null,
      "border": null,
      "bottom": null,
      "display": null,
      "flex": null,
      "flex_flow": null,
      "grid_area": null,
      "grid_auto_columns": null,
      "grid_auto_flow": null,
      "grid_auto_rows": null,
      "grid_column": null,
      "grid_gap": null,
      "grid_row": null,
      "grid_template_areas": null,
      "grid_template_columns": null,
      "grid_template_rows": null,
      "height": null,
      "justify_content": null,
      "justify_items": null,
      "left": null,
      "margin": null,
      "max_height": null,
      "max_width": null,
      "min_height": null,
      "min_width": null,
      "object_fit": null,
      "object_position": null,
      "order": null,
      "overflow": null,
      "overflow_x": null,
      "overflow_y": null,
      "padding": null,
      "right": null,
      "top": null,
      "visibility": null,
      "width": null
     }
    },
    "9b4a815028934e55b2f4e2d28231fab6": {
     "model_module": "@jupyter-widgets/controls",
     "model_name": "ProgressStyleModel",
     "state": {
      "_model_module": "@jupyter-widgets/controls",
      "_model_module_version": "1.5.0",
      "_model_name": "ProgressStyleModel",
      "_view_count": null,
      "_view_module": "@jupyter-widgets/base",
      "_view_module_version": "1.2.0",
      "_view_name": "StyleView",
      "bar_color": null,
      "description_width": "initial"
     }
    },
    "9d7c670773b24ceda33ac73eefb58e54": {
     "model_module": "@jupyter-widgets/base",
     "model_name": "LayoutModel",
     "state": {
      "_model_module": "@jupyter-widgets/base",
      "_model_module_version": "1.2.0",
      "_model_name": "LayoutModel",
      "_view_count": null,
      "_view_module": "@jupyter-widgets/base",
      "_view_module_version": "1.2.0",
      "_view_name": "LayoutView",
      "align_content": null,
      "align_items": null,
      "align_self": null,
      "border": null,
      "bottom": null,
      "display": null,
      "flex": null,
      "flex_flow": null,
      "grid_area": null,
      "grid_auto_columns": null,
      "grid_auto_flow": null,
      "grid_auto_rows": null,
      "grid_column": null,
      "grid_gap": null,
      "grid_row": null,
      "grid_template_areas": null,
      "grid_template_columns": null,
      "grid_template_rows": null,
      "height": null,
      "justify_content": null,
      "justify_items": null,
      "left": null,
      "margin": null,
      "max_height": null,
      "max_width": null,
      "min_height": null,
      "min_width": null,
      "object_fit": null,
      "object_position": null,
      "order": null,
      "overflow": null,
      "overflow_x": null,
      "overflow_y": null,
      "padding": null,
      "right": null,
      "top": null,
      "visibility": null,
      "width": null
     }
    },
    "9e2c33e27888480b8b0c6606b20259fc": {
     "model_module": "@jupyter-widgets/base",
     "model_name": "LayoutModel",
     "state": {
      "_model_module": "@jupyter-widgets/base",
      "_model_module_version": "1.2.0",
      "_model_name": "LayoutModel",
      "_view_count": null,
      "_view_module": "@jupyter-widgets/base",
      "_view_module_version": "1.2.0",
      "_view_name": "LayoutView",
      "align_content": null,
      "align_items": null,
      "align_self": null,
      "border": null,
      "bottom": null,
      "display": null,
      "flex": null,
      "flex_flow": null,
      "grid_area": null,
      "grid_auto_columns": null,
      "grid_auto_flow": null,
      "grid_auto_rows": null,
      "grid_column": null,
      "grid_gap": null,
      "grid_row": null,
      "grid_template_areas": null,
      "grid_template_columns": null,
      "grid_template_rows": null,
      "height": null,
      "justify_content": null,
      "justify_items": null,
      "left": null,
      "margin": null,
      "max_height": null,
      "max_width": null,
      "min_height": null,
      "min_width": null,
      "object_fit": null,
      "object_position": null,
      "order": null,
      "overflow": null,
      "overflow_x": null,
      "overflow_y": null,
      "padding": null,
      "right": null,
      "top": null,
      "visibility": null,
      "width": null
     }
    },
    "a43e315787f5491386b0e347553a028e": {
     "model_module": "@jupyter-widgets/base",
     "model_name": "LayoutModel",
     "state": {
      "_model_module": "@jupyter-widgets/base",
      "_model_module_version": "1.2.0",
      "_model_name": "LayoutModel",
      "_view_count": null,
      "_view_module": "@jupyter-widgets/base",
      "_view_module_version": "1.2.0",
      "_view_name": "LayoutView",
      "align_content": null,
      "align_items": null,
      "align_self": null,
      "border": null,
      "bottom": null,
      "display": null,
      "flex": null,
      "flex_flow": null,
      "grid_area": null,
      "grid_auto_columns": null,
      "grid_auto_flow": null,
      "grid_auto_rows": null,
      "grid_column": null,
      "grid_gap": null,
      "grid_row": null,
      "grid_template_areas": null,
      "grid_template_columns": null,
      "grid_template_rows": null,
      "height": null,
      "justify_content": null,
      "justify_items": null,
      "left": null,
      "margin": null,
      "max_height": null,
      "max_width": null,
      "min_height": null,
      "min_width": null,
      "object_fit": null,
      "object_position": null,
      "order": null,
      "overflow": null,
      "overflow_x": null,
      "overflow_y": null,
      "padding": null,
      "right": null,
      "top": null,
      "visibility": null,
      "width": null
     }
    },
    "a5b21eb890c04e6dae2f2fe9fafc2c3e": {
     "model_module": "@jupyter-widgets/controls",
     "model_name": "IntProgressModel",
     "state": {
      "_dom_classes": [],
      "_model_module": "@jupyter-widgets/controls",
      "_model_module_version": "1.5.0",
      "_model_name": "IntProgressModel",
      "_view_count": null,
      "_view_module": "@jupyter-widgets/controls",
      "_view_module_version": "1.5.0",
      "_view_name": "ProgressView",
      "bar_style": "success",
      "description": "",
      "description_tooltip": null,
      "layout": "IPY_MODEL_4730c89c71664064aded38c5dadee087",
      "max": 1000,
      "min": 0,
      "orientation": "horizontal",
      "style": "IPY_MODEL_0abb1862fb8e4211948209967a91a75b",
      "value": 1000
     }
    },
    "a798c8edf9ba43ebbc480ea997a6d1bd": {
     "model_module": "@jupyter-widgets/controls",
     "model_name": "ProgressStyleModel",
     "state": {
      "_model_module": "@jupyter-widgets/controls",
      "_model_module_version": "1.5.0",
      "_model_name": "ProgressStyleModel",
      "_view_count": null,
      "_view_module": "@jupyter-widgets/base",
      "_view_module_version": "1.2.0",
      "_view_name": "StyleView",
      "bar_color": null,
      "description_width": ""
     }
    },
    "a9692e30059d481db4723c6f35541616": {
     "model_module": "@jupyter-widgets/controls",
     "model_name": "DescriptionStyleModel",
     "state": {
      "_model_module": "@jupyter-widgets/controls",
      "_model_module_version": "1.5.0",
      "_model_name": "DescriptionStyleModel",
      "_view_count": null,
      "_view_module": "@jupyter-widgets/base",
      "_view_module_version": "1.2.0",
      "_view_name": "StyleView",
      "description_width": ""
     }
    },
    "abe11ccd87c344aabbfdda336b1e9582": {
     "model_module": "@jupyter-widgets/controls",
     "model_name": "HBoxModel",
     "state": {
      "_dom_classes": [],
      "_model_module": "@jupyter-widgets/controls",
      "_model_module_version": "1.5.0",
      "_model_name": "HBoxModel",
      "_view_count": null,
      "_view_module": "@jupyter-widgets/controls",
      "_view_module_version": "1.5.0",
      "_view_name": "HBoxView",
      "box_style": "",
      "children": [
       "IPY_MODEL_76ef702eafda49f1851c424575a2e8ca",
       "IPY_MODEL_093ad096843e45e8861aefdf438c70c9"
      ],
      "layout": "IPY_MODEL_dffbeafd436146df86ee962bba9962b1"
     }
    },
    "bda88afafd154d40b71a39d6652f2470": {
     "model_module": "@jupyter-widgets/base",
     "model_name": "LayoutModel",
     "state": {
      "_model_module": "@jupyter-widgets/base",
      "_model_module_version": "1.2.0",
      "_model_name": "LayoutModel",
      "_view_count": null,
      "_view_module": "@jupyter-widgets/base",
      "_view_module_version": "1.2.0",
      "_view_name": "LayoutView",
      "align_content": null,
      "align_items": null,
      "align_self": null,
      "border": null,
      "bottom": null,
      "display": null,
      "flex": null,
      "flex_flow": null,
      "grid_area": null,
      "grid_auto_columns": null,
      "grid_auto_flow": null,
      "grid_auto_rows": null,
      "grid_column": null,
      "grid_gap": null,
      "grid_row": null,
      "grid_template_areas": null,
      "grid_template_columns": null,
      "grid_template_rows": null,
      "height": null,
      "justify_content": null,
      "justify_items": null,
      "left": null,
      "margin": null,
      "max_height": null,
      "max_width": null,
      "min_height": null,
      "min_width": null,
      "object_fit": null,
      "object_position": null,
      "order": null,
      "overflow": null,
      "overflow_x": null,
      "overflow_y": null,
      "padding": null,
      "right": null,
      "top": null,
      "visibility": null,
      "width": null
     }
    },
    "c50a7b4e097844698d1efa441e2d25f4": {
     "model_module": "@jupyter-widgets/controls",
     "model_name": "DescriptionStyleModel",
     "state": {
      "_model_module": "@jupyter-widgets/controls",
      "_model_module_version": "1.5.0",
      "_model_name": "DescriptionStyleModel",
      "_view_count": null,
      "_view_module": "@jupyter-widgets/base",
      "_view_module_version": "1.2.0",
      "_view_name": "StyleView",
      "description_width": ""
     }
    },
    "ca1717165dd04ef9a6aaf101eda247e3": {
     "model_module": "@jupyter-widgets/controls",
     "model_name": "HTMLModel",
     "state": {
      "_dom_classes": [],
      "_model_module": "@jupyter-widgets/controls",
      "_model_module_version": "1.5.0",
      "_model_name": "HTMLModel",
      "_view_count": null,
      "_view_module": "@jupyter-widgets/controls",
      "_view_module_version": "1.5.0",
      "_view_name": "HTMLView",
      "description": "",
      "description_tooltip": null,
      "layout": "IPY_MODEL_563f97b883f94f62a46ef2d71eb193f3",
      "placeholder": "​",
      "style": "IPY_MODEL_157232e2f2964829a929dd1d10ff1225",
      "value": "50363it [00:04, 11823.58it/s]"
     }
    },
    "dffbeafd436146df86ee962bba9962b1": {
     "model_module": "@jupyter-widgets/base",
     "model_name": "LayoutModel",
     "state": {
      "_model_module": "@jupyter-widgets/base",
      "_model_module_version": "1.2.0",
      "_model_name": "LayoutModel",
      "_view_count": null,
      "_view_module": "@jupyter-widgets/base",
      "_view_module_version": "1.2.0",
      "_view_name": "LayoutView",
      "align_content": null,
      "align_items": null,
      "align_self": null,
      "border": null,
      "bottom": null,
      "display": null,
      "flex": null,
      "flex_flow": null,
      "grid_area": null,
      "grid_auto_columns": null,
      "grid_auto_flow": null,
      "grid_auto_rows": null,
      "grid_column": null,
      "grid_gap": null,
      "grid_row": null,
      "grid_template_areas": null,
      "grid_template_columns": null,
      "grid_template_rows": null,
      "height": null,
      "justify_content": null,
      "justify_items": null,
      "left": null,
      "margin": null,
      "max_height": null,
      "max_width": null,
      "min_height": null,
      "min_width": null,
      "object_fit": null,
      "object_position": null,
      "order": null,
      "overflow": null,
      "overflow_x": null,
      "overflow_y": null,
      "padding": null,
      "right": null,
      "top": null,
      "visibility": null,
      "width": null
     }
    },
    "e7a2b070bc4a444eb9302031ab867126": {
     "model_module": "@jupyter-widgets/controls",
     "model_name": "IntProgressModel",
     "state": {
      "_dom_classes": [],
      "_model_module": "@jupyter-widgets/controls",
      "_model_module_version": "1.5.0",
      "_model_name": "IntProgressModel",
      "_view_count": null,
      "_view_module": "@jupyter-widgets/controls",
      "_view_module_version": "1.5.0",
      "_view_name": "ProgressView",
      "bar_style": "success",
      "description": "",
      "description_tooltip": null,
      "layout": "IPY_MODEL_837d5edab36c469aacbce8028bc7a7df",
      "max": 50363,
      "min": 0,
      "orientation": "horizontal",
      "style": "IPY_MODEL_107a5e949c1e4173adc7dda6271d3c40",
      "value": 50363
     }
    },
    "ee8c6f095d674a3b9c1d408c28a35b0b": {
     "model_module": "@jupyter-widgets/base",
     "model_name": "LayoutModel",
     "state": {
      "_model_module": "@jupyter-widgets/base",
      "_model_module_version": "1.2.0",
      "_model_name": "LayoutModel",
      "_view_count": null,
      "_view_module": "@jupyter-widgets/base",
      "_view_module_version": "1.2.0",
      "_view_name": "LayoutView",
      "align_content": null,
      "align_items": null,
      "align_self": null,
      "border": null,
      "bottom": null,
      "display": null,
      "flex": null,
      "flex_flow": null,
      "grid_area": null,
      "grid_auto_columns": null,
      "grid_auto_flow": null,
      "grid_auto_rows": null,
      "grid_column": null,
      "grid_gap": null,
      "grid_row": null,
      "grid_template_areas": null,
      "grid_template_columns": null,
      "grid_template_rows": null,
      "height": null,
      "justify_content": null,
      "justify_items": null,
      "left": null,
      "margin": null,
      "max_height": null,
      "max_width": null,
      "min_height": null,
      "min_width": null,
      "object_fit": null,
      "object_position": null,
      "order": null,
      "overflow": null,
      "overflow_x": null,
      "overflow_y": null,
      "padding": null,
      "right": null,
      "top": null,
      "visibility": null,
      "width": null
     }
    },
    "f09b19e0f15b4f1ba51c5e35c4573103": {
     "model_module": "@jupyter-widgets/controls",
     "model_name": "DescriptionStyleModel",
     "state": {
      "_model_module": "@jupyter-widgets/controls",
      "_model_module_version": "1.5.0",
      "_model_name": "DescriptionStyleModel",
      "_view_count": null,
      "_view_module": "@jupyter-widgets/base",
      "_view_module_version": "1.2.0",
      "_view_name": "StyleView",
      "description_width": ""
     }
    },
    "f77dfe06431140b6b39abe392a3152fb": {
     "model_module": "@jupyter-widgets/controls",
     "model_name": "IntProgressModel",
     "state": {
      "_dom_classes": [],
      "_model_module": "@jupyter-widgets/controls",
      "_model_module_version": "1.5.0",
      "_model_name": "IntProgressModel",
      "_view_count": null,
      "_view_module": "@jupyter-widgets/controls",
      "_view_module_version": "1.5.0",
      "_view_name": "ProgressView",
      "bar_style": "success",
      "description": "",
      "description_tooltip": null,
      "layout": "IPY_MODEL_3eb1a498569f4a4d81f26c5e8793009e",
      "max": 50363,
      "min": 0,
      "orientation": "horizontal",
      "style": "IPY_MODEL_a798c8edf9ba43ebbc480ea997a6d1bd",
      "value": 50363
     }
    },
    "fa0ebc16b7db48d8b1cd133b0fb1013d": {
     "model_module": "@jupyter-widgets/controls",
     "model_name": "HTMLModel",
     "state": {
      "_dom_classes": [],
      "_model_module": "@jupyter-widgets/controls",
      "_model_module_version": "1.5.0",
      "_model_name": "HTMLModel",
      "_view_count": null,
      "_view_module": "@jupyter-widgets/controls",
      "_view_module_version": "1.5.0",
      "_view_name": "HTMLView",
      "description": "",
      "description_tooltip": null,
      "layout": "IPY_MODEL_9e2c33e27888480b8b0c6606b20259fc",
      "placeholder": "​",
      "style": "IPY_MODEL_c50a7b4e097844698d1efa441e2d25f4",
      "value": "100% 50363/50363 [00:04&lt;00:00, 10764.72it/s]"
     }
    }
   }
  }
 },
 "nbformat": 4,
 "nbformat_minor": 1
}
