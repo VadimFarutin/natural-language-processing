{
 "cells": [
  {
   "cell_type": "code",
   "execution_count": 1,
   "metadata": {},
   "outputs": [],
   "source": [
    "import re\n",
    "from collections import defaultdict\n",
    "import xmltodict\n",
    "from tqdm import tnrange, tqdm_notebook\n",
    "from tqdm import tqdm\n",
    "from sklearn.model_selection import train_test_split\n",
    "import numpy as np\n",
    "from matplotlib import pyplot as plt\n",
    "\n",
    "import torch\n",
    "import torch.nn as nn\n",
    "import torch.nn.functional as F\n",
    "import torch.optim as optim\n",
    "from torch.utils.data.dataset import Dataset\n",
    "from torch.nn.utils.rnn import pad_sequence\n",
    "\n",
    "# from pymystem3 import Mystem"
   ]
  },
  {
   "cell_type": "code",
   "execution_count": 2,
   "metadata": {},
   "outputs": [
    {
     "data": {
      "text/plain": [
       "<torch._C.Generator at 0x90c290830>"
      ]
     },
     "execution_count": 2,
     "metadata": {},
     "output_type": "execute_result"
    }
   ],
   "source": [
    "torch.manual_seed(1)"
   ]
  },
  {
   "cell_type": "code",
   "execution_count": 3,
   "metadata": {},
   "outputs": [],
   "source": [
    "device = torch.device(\"cuda\")"
   ]
  },
  {
   "cell_type": "code",
   "execution_count": 4,
   "metadata": {},
   "outputs": [],
   "source": [
    "def read_input():\n",
    "    input_filename = \"./input.txt\"\n",
    "    lines = []\n",
    "\n",
    "    with open(input_filename, encoding='utf-8') as input_file:\n",
    "        for line in input_file:\n",
    "            lines.append(re.findall(r'\\w+', line))\n",
    "\n",
    "    return lines\n"
   ]
  },
  {
   "cell_type": "code",
   "execution_count": 5,
   "metadata": {},
   "outputs": [],
   "source": [
    "def read_X():\n",
    "    input_filename = \"./texts_train.txt\"\n",
    "    lines = []\n",
    "\n",
    "    with open(input_filename, encoding='utf-8') as input_file:\n",
    "        for line in input_file:\n",
    "            lines.append(re.findall(r'\\w+', line))\n",
    "\n",
    "    return lines\n"
   ]
  },
  {
   "cell_type": "code",
   "execution_count": 6,
   "metadata": {},
   "outputs": [],
   "source": [
    "def read_Y():\n",
    "    input_filename = \"./scores_train.txt\"\n",
    "    scores = []\n",
    "\n",
    "    with open(input_filename, encoding='utf-8') as input_file:\n",
    "        for line in input_file:\n",
    "            scores.append(int(line) - 1)\n",
    "\n",
    "    return scores\n"
   ]
  },
  {
   "cell_type": "code",
   "execution_count": 7,
   "metadata": {},
   "outputs": [],
   "source": [
    "def read_XY():\n",
    "    input_filename1 = \"./texts_train.txt\"\n",
    "    input_filename2 = \"./scores_train.txt\"\n",
    "    dataset = []\n",
    "\n",
    "    with open(input_filename1, encoding='utf-8') as input_file1:\n",
    "        with open(input_filename2, encoding='utf-8') as input_file2:\n",
    "            for line1, line2 in zip(input_file1, input_file2):\n",
    "                dataset.append((re.findall(r'\\w+', line1), int(line2)))\n",
    "\n",
    "    return np.array(dataset)\n"
   ]
  },
  {
   "cell_type": "code",
   "execution_count": 8,
   "metadata": {},
   "outputs": [],
   "source": [
    "X = read_X()\n",
    "Y = read_Y()"
   ]
  },
  {
   "cell_type": "code",
   "execution_count": 9,
   "metadata": {},
   "outputs": [
    {
     "name": "stdout",
     "output_type": "stream",
     "text": [
      "['Сериал', 'очень', 'люблю', 'но', 'Академия', 'и', 'Земля', 'вызывает', 'у', 'меня', 'отторжение', 'идеей', 'Не', 'люблю', 'когда', 'принижают', 'ценность', 'человека', 'как', 'личности', 'даже', 'не', 'смотря', 'на', 'ошибки', 'личности']\n",
      "5\n"
     ]
    }
   ],
   "source": [
    "print(X[0])\n",
    "print(Y[0])"
   ]
  },
  {
   "cell_type": "code",
   "execution_count": 10,
   "metadata": {},
   "outputs": [],
   "source": [
    "def build_vocab(dataset, word_to_idx={}):\n",
    "    for sent in tqdm_notebook(dataset):\n",
    "        for word in sent:\n",
    "            if word not in word_to_idx:\n",
    "                word_to_idx[word.lower()] = len(word_to_idx) + 1\n",
    "\n",
    "    return word_to_idx"
   ]
  },
  {
   "cell_type": "code",
   "execution_count": 11,
   "metadata": {},
   "outputs": [
    {
     "data": {
      "application/vnd.jupyter.widget-view+json": {
       "model_id": "bab74ded315346a0a2d6ca21f97965d2",
       "version_major": 2,
       "version_minor": 0
      },
      "text/plain": [
       "HBox(children=(IntProgress(value=0, max=20000), HTML(value='')))"
      ]
     },
     "metadata": {},
     "output_type": "display_data"
    },
    {
     "name": "stdout",
     "output_type": "stream",
     "text": [
      "\n"
     ]
    }
   ],
   "source": [
    "word_to_idx = build_vocab(X)"
   ]
  },
  {
   "cell_type": "code",
   "execution_count": 12,
   "metadata": {},
   "outputs": [
    {
     "name": "stdout",
     "output_type": "stream",
     "text": [
      "[('сериал', 109108), ('очень', 108898), ('люблю', 108438), ('но', 109096), ('академия', 45315), ('и', 109024), ('земля', 106349), ('вызывает', 106008), ('у', 108942), ('меня', 108044)]\n"
     ]
    }
   ],
   "source": [
    "print(list(word_to_idx.items())[:10])"
   ]
  },
  {
   "cell_type": "code",
   "execution_count": 13,
   "metadata": {},
   "outputs": [],
   "source": [
    "def my_collate(sent):\n",
    "    return torch.tensor([word_to_idx[word.lower()] for word in sent])"
   ]
  },
  {
   "cell_type": "code",
   "execution_count": 14,
   "metadata": {},
   "outputs": [],
   "source": [
    "def pad_dataset(dataset):\n",
    "    num_dataset = [my_collate(item) for item in dataset]\n",
    "    return pad_sequence(num_dataset, batch_first=True, padding_value=0)"
   ]
  },
  {
   "cell_type": "code",
   "execution_count": 15,
   "metadata": {},
   "outputs": [],
   "source": [
    "X_padded = pad_dataset(X)"
   ]
  },
  {
   "cell_type": "code",
   "execution_count": 16,
   "metadata": {},
   "outputs": [
    {
     "name": "stdout",
     "output_type": "stream",
     "text": [
      "tensor([109108, 108898, 108438,  ...,      0,      0,      0])\n"
     ]
    }
   ],
   "source": [
    "print(X_padded[0])"
   ]
  },
  {
   "cell_type": "code",
   "execution_count": 17,
   "metadata": {},
   "outputs": [],
   "source": [
    "def join_dataset(X, Y):\n",
    "    dataset = torch.zeros(X.shape[0], X.shape[1] + 1)\n",
    "    dataset[:, :X.shape[1]] = X\n",
    "    dataset[:, X.shape[1]] = torch.tensor(Y)\n",
    "    return dataset"
   ]
  },
  {
   "cell_type": "code",
   "execution_count": 18,
   "metadata": {},
   "outputs": [],
   "source": [
    "dataset = join_dataset(X_padded, Y)"
   ]
  },
  {
   "cell_type": "code",
   "execution_count": 19,
   "metadata": {},
   "outputs": [
    {
     "name": "stdout",
     "output_type": "stream",
     "text": [
      "torch.Size([20000, 3181])\n"
     ]
    }
   ],
   "source": [
    "print(dataset.shape)"
   ]
  },
  {
   "cell_type": "code",
   "execution_count": 20,
   "metadata": {},
   "outputs": [],
   "source": [
    "train, val = train_test_split(dataset.numpy(), test_size=0.2, random_state=42)"
   ]
  },
  {
   "cell_type": "code",
   "execution_count": 51,
   "metadata": {},
   "outputs": [],
   "source": [
    "class MySentiment(nn.Module):\n",
    "    def __init__(self, embedding_dim, hidden_dim, num_layers, bidirectional, vocab_size, tagset_size):\n",
    "        super(MySentiment, self).__init__()\n",
    "        self.hidden_dim = hidden_dim\n",
    "        self.word_embeddings = nn.Embedding(vocab_size, embedding_dim)\n",
    "        self.lstm = nn.LSTM(embedding_dim, hidden_dim, num_layers=num_layers, bidirectional=bidirectional, batch_first=True)\n",
    "        self.fc1 = nn.Linear(hidden_dim, hidden_dim)\n",
    "        self.fc2 = nn.Linear(hidden_dim, tagset_size)\n",
    "        self.dropout = nn.Dropout(0.3)\n",
    "    \n",
    "    def forward(self, batch):\n",
    "        embeds = self.word_embeddings(batch)\n",
    "        lstm_out, _ = self.lstm(embeds)\n",
    "        tag_space = self.fc2(self.fc1(self.dropout(lstm_out)))\n",
    "#         tag_space_sum = tag_space.sum(dim=1)\n",
    "        tag_space_sum = tag_space[:, -1]\n",
    "        tag_scores = F.softmax(tag_space_sum)\n",
    "        return tag_scores"
   ]
  },
  {
   "cell_type": "code",
   "execution_count": 52,
   "metadata": {},
   "outputs": [],
   "source": [
    "def fit(model, train, val, optimizer, loss_function, epoch_cnt, batch_size):\n",
    "    train_loader = torch.utils.data.DataLoader(train, batch_size=batch_size, shuffle=True)\n",
    "    val_loader = torch.utils.data.DataLoader(val, batch_size=batch_size)\n",
    "    train_loss_values = []\n",
    "    val_loss_values = []\n",
    "            \n",
    "    for epoch in tnrange(epoch_cnt, desc='Epoch'):\n",
    "        for batch_data in tqdm_notebook(train_loader, desc='Train'):\n",
    "            x, y = batch_data[:, :-1].to(device), batch_data[:, -1].to(device)\n",
    "            optimizer.zero_grad()\n",
    "            output = model(x.long())\n",
    "            loss = loss_function(output, y.long())\n",
    "            train_loss_values.append(loss)\n",
    "            loss.backward()\n",
    "            nn.utils.clip_grad_norm_(model.parameters(), 5)\n",
    "            optimizer.step()\n",
    "\n",
    "        with torch.no_grad():\n",
    "            loss_values = []\n",
    "            for batch_data in tqdm_notebook(val_loader, desc='Validate'):\n",
    "                x, y = batch_data[:, :-1].to(device), batch_data[:, -1].to(device)\n",
    "                output = model(x.long())\n",
    "                loss = loss_function(output, y.long())\n",
    "                loss_values.append(loss.item())\n",
    "            val_loss_values.append(np.mean(np.array(loss_values)))\n",
    "\n",
    "    return train_loss_values, val_loss_values \n"
   ]
  },
  {
   "cell_type": "code",
   "execution_count": 53,
   "metadata": {},
   "outputs": [],
   "source": [
    "embedding_dim = 32\n",
    "hidden_dim = 32\n",
    "num_layers = 1\n",
    "bidirectional = False\n",
    "vocab_size = len(word_to_idx) + 1\n",
    "tagset_size = 10"
   ]
  },
  {
   "cell_type": "code",
   "execution_count": 55,
   "metadata": {},
   "outputs": [],
   "source": [
    "model = MySentiment(embedding_dim, hidden_dim, num_layers, bidirectional, vocab_size, tagset_size)\n",
    "model = model.float()\n",
    "model = model.to(device)"
   ]
  },
  {
   "cell_type": "code",
   "execution_count": 56,
   "metadata": {},
   "outputs": [],
   "source": [
    "loss_function = nn.NLLLoss()\n",
    "optimizer = optim.Adam(model.parameters(), lr=1e-3)"
   ]
  },
  {
   "cell_type": "code",
   "execution_count": 58,
   "metadata": {},
   "outputs": [],
   "source": [
    "torch.cuda.empty_cache()"
   ]
  },
  {
   "cell_type": "code",
   "execution_count": 59,
   "metadata": {},
   "outputs": [
    {
     "data": {
      "application/vnd.jupyter.widget-view+json": {
       "model_id": "b2bb7b27a6e84d0da8022be55fe6a487",
       "version_major": 2,
       "version_minor": 0
      },
      "text/plain": [
       "HBox(children=(IntProgress(value=0, description='Epoch', max=5, style=ProgressStyle(description_width='initial…"
      ]
     },
     "metadata": {},
     "output_type": "display_data"
    },
    {
     "data": {
      "application/vnd.jupyter.widget-view+json": {
       "model_id": "030aaf7de89b4dc796142c0f05ae3217",
       "version_major": 2,
       "version_minor": 0
      },
      "text/plain": [
       "HBox(children=(IntProgress(value=0, description='Train', max=32, style=ProgressStyle(description_width='initia…"
      ]
     },
     "metadata": {},
     "output_type": "display_data"
    },
    {
     "name": "stderr",
     "output_type": "stream",
     "text": [
      "C:\\Users\\Vadim\\anaconda3\\envs\\ML\\lib\\site-packages\\ipykernel_launcher.py:17: UserWarning: Implicit dimension choice for softmax has been deprecated. Change the call to include dim=X as an argument.\n"
     ]
    },
    {
     "data": {
      "application/vnd.jupyter.widget-view+json": {
       "model_id": "f0557bc7eec242e29be0e968dc3422d4",
       "version_major": 2,
       "version_minor": 0
      },
      "text/plain": [
       "HBox(children=(IntProgress(value=0, description='Validate', max=8, style=ProgressStyle(description_width='init…"
      ]
     },
     "metadata": {},
     "output_type": "display_data"
    },
    {
     "data": {
      "application/vnd.jupyter.widget-view+json": {
       "model_id": "d67606377eeb49b8851d3d42c0a87f9a",
       "version_major": 2,
       "version_minor": 0
      },
      "text/plain": [
       "HBox(children=(IntProgress(value=0, description='Train', max=32, style=ProgressStyle(description_width='initia…"
      ]
     },
     "metadata": {},
     "output_type": "display_data"
    },
    {
     "data": {
      "application/vnd.jupyter.widget-view+json": {
       "model_id": "e94ba284e8cc4549bfa7ccf2b0becf1c",
       "version_major": 2,
       "version_minor": 0
      },
      "text/plain": [
       "HBox(children=(IntProgress(value=0, description='Validate', max=8, style=ProgressStyle(description_width='init…"
      ]
     },
     "metadata": {},
     "output_type": "display_data"
    },
    {
     "data": {
      "application/vnd.jupyter.widget-view+json": {
       "model_id": "8626a2c8d677459996eabe630cda92de",
       "version_major": 2,
       "version_minor": 0
      },
      "text/plain": [
       "HBox(children=(IntProgress(value=0, description='Train', max=32, style=ProgressStyle(description_width='initia…"
      ]
     },
     "metadata": {},
     "output_type": "display_data"
    },
    {
     "data": {
      "application/vnd.jupyter.widget-view+json": {
       "model_id": "785abdfd665b400ea0209139505e4554",
       "version_major": 2,
       "version_minor": 0
      },
      "text/plain": [
       "HBox(children=(IntProgress(value=0, description='Validate', max=8, style=ProgressStyle(description_width='init…"
      ]
     },
     "metadata": {},
     "output_type": "display_data"
    },
    {
     "data": {
      "application/vnd.jupyter.widget-view+json": {
       "model_id": "2f49af00c05f44a39e0c154c23f903e3",
       "version_major": 2,
       "version_minor": 0
      },
      "text/plain": [
       "HBox(children=(IntProgress(value=0, description='Train', max=32, style=ProgressStyle(description_width='initia…"
      ]
     },
     "metadata": {},
     "output_type": "display_data"
    },
    {
     "data": {
      "application/vnd.jupyter.widget-view+json": {
       "model_id": "ee6ee33dffd84e8aae8eb3f99ba51ef3",
       "version_major": 2,
       "version_minor": 0
      },
      "text/plain": [
       "HBox(children=(IntProgress(value=0, description='Validate', max=8, style=ProgressStyle(description_width='init…"
      ]
     },
     "metadata": {},
     "output_type": "display_data"
    },
    {
     "data": {
      "application/vnd.jupyter.widget-view+json": {
       "model_id": "605744aa7e514f38b33cc19b139cf7c7",
       "version_major": 2,
       "version_minor": 0
      },
      "text/plain": [
       "HBox(children=(IntProgress(value=0, description='Train', max=32, style=ProgressStyle(description_width='initia…"
      ]
     },
     "metadata": {},
     "output_type": "display_data"
    },
    {
     "data": {
      "application/vnd.jupyter.widget-view+json": {
       "model_id": "c2b2782c3f8c4975aaba4736336893c5",
       "version_major": 2,
       "version_minor": 0
      },
      "text/plain": [
       "HBox(children=(IntProgress(value=0, description='Validate', max=8, style=ProgressStyle(description_width='init…"
      ]
     },
     "metadata": {},
     "output_type": "display_data"
    }
   ],
   "source": [
    "epoch_cnt = 5\n",
    "batch_size = 512\n",
    "train_loss_values, val_loss_values =\\\n",
    "    fit(model, train, val, optimizer, loss_function, epoch_cnt, batch_size)"
   ]
  },
  {
   "cell_type": "code",
   "execution_count": 60,
   "metadata": {},
   "outputs": [],
   "source": [
    "def plot_loss_values(train_loss_values, val_loss_values):\n",
    "    plt.plot(np.arange(len(train_loss_values)), train_loss_values, color='blue', label='train')\n",
    "    plt.plot(np.arange(0, len(train_loss_values), len(train_loss_values) / epoch_cnt), val_loss_values, color='red', label='validation')\n",
    "    plt.legend()\n",
    "    plt.title(\"Loss values\")\n",
    "    plt.xlabel(\"iteration\")\n",
    "    plt.ylabel(\"loss\")\n",
    "    plt.show()"
   ]
  },
  {
   "cell_type": "code",
   "execution_count": 61,
   "metadata": {
    "scrolled": true
   },
   "outputs": [
    {
     "data": {
      "image/png": "[encoded data removed]",
      "text/plain": [
       "<Figure size 432x288 with 1 Axes>"
      ]
     },
     "metadata": {
      "needs_background": "light"
     },
     "output_type": "display_data"
    }
   ],
   "source": [
    "plot_loss_values(train_loss_values, val_loss_values)"
   ]
  },
  {
   "cell_type": "code",
   "execution_count": 47,
   "metadata": {},
   "outputs": [
    {
     "data": {
      "application/vnd.jupyter.widget-view+json": {
       "model_id": "fcd0854ae51d46f2a97406abc30d7d76",
       "version_major": 2,
       "version_minor": 0
      },
      "text/plain": [
       "HBox(children=(IntProgress(value=0, max=1000), HTML(value='')))"
      ]
     },
     "metadata": {},
     "output_type": "display_data"
    },
    {
     "name": "stdout",
     "output_type": "stream",
     "text": [
      "\n"
     ]
    }
   ],
   "source": [
    "test = read_input()\n",
    "word_to_idx_ext = build_vocab(test, word_to_idx)\n",
    "test_padded = pad_dataset(test)"
   ]
  },
  {
   "cell_type": "code",
   "execution_count": 62,
   "metadata": {},
   "outputs": [
    {
     "data": {
      "application/vnd.jupyter.widget-view+json": {
       "model_id": "e6ce40441ead4daf8d125d1418419249",
       "version_major": 2,
       "version_minor": 0
      },
      "text/plain": [
       "HBox(children=(IntProgress(value=0, description='Test', max=2, style=ProgressStyle(description_width='initial'…"
      ]
     },
     "metadata": {},
     "output_type": "display_data"
    },
    {
     "name": "stderr",
     "output_type": "stream",
     "text": [
      "C:\\Users\\Vadim\\anaconda3\\envs\\ML\\lib\\site-packages\\ipykernel_launcher.py:17: UserWarning: Implicit dimension choice for softmax has been deprecated. Change the call to include dim=X as an argument.\n"
     ]
    }
   ],
   "source": [
    "with torch.no_grad():\n",
    "    test_loader = torch.utils.data.DataLoader(test_padded, batch_size=batch_size)\n",
    "    ans = np.array([], dtype=int)\n",
    "    \n",
    "    for batch_data in tqdm_notebook(test_loader, desc='Test'):\n",
    "        x = batch_data.to(device)\n",
    "        output = model(x.long())\n",
    "        _, ansx = output.max(dim=1)\n",
    "        ansx = ansx.cpu().numpy() + 1\n",
    "        ans = np.append(ans, ansx)"
   ]
  },
  {
   "cell_type": "code",
   "execution_count": 65,
   "metadata": {},
   "outputs": [],
   "source": [
    "output_filename = \"./output.txt\"\n",
    "with open(output_filename, \"w\", encoding=\"utf-8\") as output_file:\n",
    "    for tag in ans:\n",
    "        output_file.write(str(tag))\n",
    "        output_file.write(\"\\n\")"
   ]
  },
  {
   "cell_type": "code",
   "execution_count": 112,
   "metadata": {},
   "outputs": [],
   "source": [
    "torch.save(model.state_dict(), \"./models/lstm_64_128_1_True_SGD_1e-2_25e_w.pt\")\n",
    "torch.save(model, \"./models/lstm_64_128_1_True_SGD_1e-2_25e_f.pt\")"
   ]
  },
  {
   "cell_type": "code",
   "execution_count": null,
   "metadata": {},
   "outputs": [],
   "source": []
  }
 ],
 "metadata": {
  "kernelspec": {
   "display_name": "Python 3",
   "language": "python",
   "name": "python3"
  },
  "language_info": {
   "codemirror_mode": {
    "name": "ipython",
    "version": 3
   },
   "file_extension": ".py",
   "mimetype": "text/x-python",
   "name": "python",
   "nbconvert_exporter": "python",
   "pygments_lexer": "ipython3",
   "version": "3.6.7"
  }
 },
 "nbformat": 4,
 "nbformat_minor": 2
}
